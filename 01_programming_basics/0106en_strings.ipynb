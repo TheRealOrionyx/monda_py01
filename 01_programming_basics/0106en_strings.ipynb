{
 "cells": [
  {
   "cell_type": "markdown",
   "metadata": {},
   "source": [
    "# Strings in Python\n",
    "\n",
    "Strings are one of Python's most versatile and commonly used data types. They are used to represent and manipulate text."
   ]
  },
  {
   "cell_type": "markdown",
   "metadata": {},
   "source": [
    "## String as a Data Type"
   ]
  },
  {
   "cell_type": "markdown",
   "metadata": {},
   "source": [
    "In Python, a string is a sequence of characters. Strings can be created by enclosing characters inside a single quote (`'`) or double quotes (`\"`).\n",
    "\n",
    "**Example**:"
   ]
  },
  {
   "cell_type": "code",
   "execution_count": 1,
   "metadata": {},
   "outputs": [
    {
     "name": "stdout",
     "output_type": "stream",
     "text": [
      "Hello, World! Python Programming\n"
     ]
    }
   ],
   "source": [
    "hello_world = 'Hello, World!'\n",
    "course_name = \"Python Programming\"\n",
    "print(hello_world, course_name)"
   ]
  },
  {
   "cell_type": "markdown",
   "metadata": {},
   "source": [
    "### Quick Assignment 1\n",
    "Declare a string variable with the value \"I'm learning Python!\" and print it.\n"
   ]
  },
  {
   "cell_type": "code",
   "execution_count": 1,
   "metadata": {},
   "outputs": [
    {
     "name": "stdout",
     "output_type": "stream",
     "text": [
      "Hello! I'm learning Python!\n"
     ]
    }
   ],
   "source": [
    "hello = \"Hello!\"\n",
    "im_learning = \"I'm learning Python!\"\n",
    "print(hello, im_learning)"
   ]
  },
  {
   "cell_type": "markdown",
   "metadata": {},
   "source": [
    "---\n",
    "\n",
    "## 2. Character Extraction from Strings"
   ]
  },
  {
   "cell_type": "markdown",
   "metadata": {},
   "source": [
    "Every character in a string has a position or an index, starting from `0`. Characters can be extracted by giving their index in square brackets `[]`. Negative index means it's counted from the end backwards.\n",
    "\n",
    "**Example**:"
   ]
  },
  {
   "cell_type": "code",
   "execution_count": 2,
   "metadata": {},
   "outputs": [
    {
     "name": "stdout",
     "output_type": "stream",
     "text": [
      "P\n",
      "n\n"
     ]
    }
   ],
   "source": [
    "dirty_text = \"Python\"\n",
    "print(dirty_text[0])  # P\n",
    "print(dirty_text[-1]) # n"
   ]
  },
  {
   "cell_type": "markdown",
   "metadata": {},
   "source": [
    "### Quick Assignment 2\n",
    "Extract and print the third character from the string \"Programming\"."
   ]
  },
  {
   "cell_type": "code",
   "execution_count": 2,
   "metadata": {},
   "outputs": [
    {
     "name": "stdout",
     "output_type": "stream",
     "text": [
      "o\n"
     ]
    }
   ],
   "source": [
    "programming = \"programming\"\n",
    "print(programming[2])"
   ]
  },
  {
   "cell_type": "markdown",
   "metadata": {},
   "source": [
    "--- \n",
    "\n",
    "## String Slicing"
   ]
  },
  {
   "cell_type": "markdown",
   "metadata": {},
   "source": [
    "You can extract a part of the string by slicing. Instead of exact index value in square brackets `[]`, you just provide range values for index, separated by `:`.\n",
    "\n",
    "**Example**:"
   ]
  },
  {
   "cell_type": "code",
   "execution_count": 67,
   "metadata": {},
   "outputs": [
    {
     "name": "stdout",
     "output_type": "stream",
     "text": [
      "Programming\n"
     ]
    }
   ],
   "source": [
    "dirty_texts = \"Python Programming\"\n",
    "print(dirty_texts[7:18]) # Programming"
   ]
  },
  {
   "cell_type": "code",
   "execution_count": 73,
   "metadata": {},
   "outputs": [
    {
     "name": "stdout",
     "output_type": "stream",
     "text": [
      "Pormig\n",
      " otP\n"
     ]
    }
   ],
   "source": [
    "print(dirty_texts[7::2])\n",
    "print(dirty_texts[6::-2])"
   ]
  },
  {
   "cell_type": "markdown",
   "metadata": {},
   "source": [
    "### Quick Assignment 3\n",
    "Slice the string \"Pythonista\" to extract the substring \"onist\"."
   ]
  },
  {
   "cell_type": "code",
   "execution_count": 6,
   "metadata": {},
   "outputs": [
    {
     "name": "stdout",
     "output_type": "stream",
     "text": [
      "onist\n"
     ]
    }
   ],
   "source": [
    "pythonistas = \"Pythonistas\"\n",
    "print(pythonistas[4:9])"
   ]
  },
  {
   "cell_type": "code",
   "execution_count": null,
   "metadata": {},
   "outputs": [],
   "source": []
  },
  {
   "cell_type": "markdown",
   "metadata": {},
   "source": [
    "---\n",
    "\n",
    "## String Length"
   ]
  },
  {
   "cell_type": "markdown",
   "metadata": {},
   "source": [
    "When you want to find the length of a string, you can use the `len()` function, by passing the string as an argument."
   ]
  },
  {
   "cell_type": "code",
   "execution_count": 4,
   "metadata": {},
   "outputs": [
    {
     "name": "stdout",
     "output_type": "stream",
     "text": [
      "6\n"
     ]
    }
   ],
   "source": [
    "dirty_text = \"Python\"\n",
    "print(len(dirty_text))"
   ]
  },
  {
   "cell_type": "markdown",
   "metadata": {},
   "source": [
    "### Quick Assignment 4\n",
    "\n",
    "Find and print the length of the string \"Jupyter Notebook\"."
   ]
  },
  {
   "cell_type": "code",
   "execution_count": 9,
   "metadata": {},
   "outputs": [
    {
     "name": "stdout",
     "output_type": "stream",
     "text": [
      "15\n",
      "7\n"
     ]
    }
   ],
   "source": [
    "length = \"Jupyer Notebook\"\n",
    "print(len(length))\n",
    "\n",
    "print(len(\"Draugas\"))"
   ]
  },
  {
   "cell_type": "markdown",
   "metadata": {},
   "source": [
    "### Quick Assignment 5\n",
    "\n",
    "Find the length of the longest German word \"Kraftfahrzeughaftpflichtversicherung\"."
   ]
  },
  {
   "cell_type": "code",
   "execution_count": 8,
   "metadata": {},
   "outputs": [
    {
     "name": "stdout",
     "output_type": "stream",
     "text": [
      "36\n"
     ]
    }
   ],
   "source": [
    "long_word = \"Kraftfahrzeughaftpflichtversicherung\"\n",
    "print(len(long_word))"
   ]
  },
  {
   "cell_type": "markdown",
   "metadata": {},
   "source": [
    "---\n",
    "\n",
    "## Special Characters, New Line, Unicode Symbols\n"
   ]
  },
  {
   "cell_type": "markdown",
   "metadata": {},
   "source": [
    "Special characters in strings enable us to include characters that can't be easily typed out or have special meanings in strings. These are typically combined with the backslash (`\\`) character.\n",
    "\n",
    "### New Line: `\\n`\n",
    "\n",
    "The `\\n` character represents a new line."
   ]
  },
  {
   "cell_type": "code",
   "execution_count": 5,
   "metadata": {},
   "outputs": [
    {
     "name": "stdout",
     "output_type": "stream",
     "text": [
      "Hello\n",
      "World!\n"
     ]
    }
   ],
   "source": [
    "print(\"Hello\\nWorld!\")"
   ]
  },
  {
   "cell_type": "markdown",
   "metadata": {},
   "source": [
    "### Tab: `\\t`\n",
    "\n",
    "The `\\t` character represents a tab space, which is typically wider than a regular space."
   ]
  },
  {
   "cell_type": "code",
   "execution_count": 6,
   "metadata": {},
   "outputs": [
    {
     "name": "stdout",
     "output_type": "stream",
     "text": [
      "Hello\tWorld!\n"
     ]
    }
   ],
   "source": [
    "print(\"Hello\\tWorld!\")"
   ]
  },
  {
   "cell_type": "markdown",
   "metadata": {},
   "source": [
    "### Unicode Symbols\n",
    "\n",
    "Unicode symbols allow for the representation of thousands of unique characters, from different languages to various emojis. They can be represented using the `\\u` prefix followed by the Unicode code."
   ]
  },
  {
   "cell_type": "code",
   "execution_count": 7,
   "metadata": {},
   "outputs": [
    {
     "name": "stdout",
     "output_type": "stream",
     "text": [
      "Π\n",
      "😄\n",
      "👍\n"
     ]
    }
   ],
   "source": [
    "# Greek letter Pi\n",
    "print(\"\\u03A0\")\n",
    "\n",
    "# Smile emoji\n",
    "print(\"\\U0001F604\")\n",
    "\n",
    "# Thumbs up emoji\n",
    "print(\"\\U0001F44D\")"
   ]
  },
  {
   "cell_type": "markdown",
   "metadata": {},
   "source": [
    "You can browse all the available symbols at [symbl.cc](https://symbl.cc/)"
   ]
  },
  {
   "cell_type": "markdown",
   "metadata": {},
   "source": [
    "### Backslashes and Quotes\n",
    "\n",
    "To include a backslash in a string, you can use `\\\\`, and to include quotes within a string enclosed by the same type of quote, you use a backslash before the quote."
   ]
  },
  {
   "cell_type": "code",
   "execution_count": 8,
   "metadata": {},
   "outputs": [
    {
     "name": "stdout",
     "output_type": "stream",
     "text": [
      "This is a backslash: \\\n",
      "It's a sunny day!\n"
     ]
    }
   ],
   "source": [
    "print(\"This is a backslash: \\\\\")\n",
    "print('It\\'s a sunny day!')"
   ]
  },
  {
   "cell_type": "markdown",
   "metadata": {},
   "source": [
    "### Quick Assignment 6\n",
    "\n",
    "Print a string that uses a tab character to separate your first name and last name."
   ]
  },
  {
   "cell_type": "code",
   "execution_count": 11,
   "metadata": {},
   "outputs": [
    {
     "name": "stdout",
     "output_type": "stream",
     "text": [
      "Zanas\tStasevicius\n"
     ]
    }
   ],
   "source": [
    "print(\"Zanas\\tStasevicius\")"
   ]
  },
  {
   "cell_type": "markdown",
   "metadata": {},
   "source": [
    "### Quick Assignment 7\n",
    "\n",
    "Print the \"heart\" emoji using its Unicode representation."
   ]
  },
  {
   "cell_type": "code",
   "execution_count": 30,
   "metadata": {},
   "outputs": [
    {
     "name": "stdout",
     "output_type": "stream",
     "text": [
      "♥\n",
      "❤️\n",
      "❤\n",
      "💙\n",
      "💕\n"
     ]
    }
   ],
   "source": [
    "print(\"\\u2665\")\n",
    "print(\"❤️\")\n",
    "print(\"\\u2764\")\n",
    "print(\"\\U0001F499\")\n",
    "print(\"\\U0001F495\")"
   ]
  },
  {
   "cell_type": "markdown",
   "metadata": {},
   "source": [
    "### Quick Assignment 8\n",
    "\n",
    "Create a string that says: `She said, \"Python is amazing!\"` ensuring the inner quotes are included."
   ]
  },
  {
   "cell_type": "code",
   "execution_count": 21,
   "metadata": {},
   "outputs": [
    {
     "name": "stdout",
     "output_type": "stream",
     "text": [
      "She said, \"Python is amazing!\"\n"
     ]
    }
   ],
   "source": [
    "string = \"She said, \\\"Python is amazing!\\\"\"\n",
    "print(string)"
   ]
  },
  {
   "cell_type": "markdown",
   "metadata": {},
   "source": [
    "---\n",
    "\n",
    "## String Methods"
   ]
  },
  {
   "cell_type": "markdown",
   "metadata": {},
   "source": [
    "Strings in Python come with a variety of built-in methods to manipulate and probe the data they contain. Here, we'll discuss some of the most commonly used methods."
   ]
  },
  {
   "cell_type": "markdown",
   "metadata": {},
   "source": [
    "### `upper()` and `lower()`\n",
    "\n",
    "These methods return a copy of the original string converted to uppercase or lowercase, respectively."
   ]
  },
  {
   "cell_type": "code",
   "execution_count": 9,
   "metadata": {},
   "outputs": [
    {
     "name": "stdout",
     "output_type": "stream",
     "text": [
      "HELLO\n",
      "hello\n"
     ]
    }
   ],
   "source": [
    "dirty_text = \"Hello\"\n",
    "print(dirty_text.upper())\n",
    "print(dirty_text.lower())"
   ]
  },
  {
   "cell_type": "markdown",
   "metadata": {},
   "source": [
    "### `capitalize()` and `title()`\n",
    "\n",
    "These methods return a copy of the original string, where `capitalize` makes the first letter of the string uppercase, where `title` makes first letter of every word uppercase. The rest of the letters are made lowercase, even if they were uppercase."
   ]
  },
  {
   "cell_type": "code",
   "execution_count": 33,
   "metadata": {},
   "outputs": [
    {
     "name": "stdout",
     "output_type": "stream",
     "text": [
      "The world is beautiful.\n",
      "the beauty needs to be discovered.\n",
      "the biggest challenge is the first step.\n",
      "\n",
      "The World Is Beautiful.\n",
      "The Beauty Needs To Be Discovered.\n",
      "The Biggest Challenge Is The First Step.\n",
      "\n"
     ]
    }
   ],
   "source": [
    "dirty_text = \"\"\"the world is beautiful.\n",
    "the beauty needs to be discovered.\n",
    "the biggest challenge is the FIRST step.\n",
    "\"\"\"\n",
    "print(dirty_text.capitalize())\n",
    "print(dirty_text.title())"
   ]
  },
  {
   "cell_type": "markdown",
   "metadata": {},
   "source": [
    "### Quick Assignment 9\n",
    "\n",
    "Convert the string \"Python Rocks!\" to uppercase and then to lowercase, then print the results."
   ]
  },
  {
   "cell_type": "code",
   "execution_count": 40,
   "metadata": {},
   "outputs": [
    {
     "name": "stdout",
     "output_type": "stream",
     "text": [
      "PYTHON ROCKS\n",
      "python rocks\n",
      "Python Rocks\n",
      "Python rocks\n"
     ]
    }
   ],
   "source": [
    "test = \"Python Rocks\"\n",
    "print(test.upper())\n",
    "print(test.lower())\n",
    "print(test.title())\n",
    "print(test.capitalize())"
   ]
  },
  {
   "cell_type": "markdown",
   "metadata": {},
   "source": [
    "### Quick Assignment 10\n",
    "\n",
    "Fix up the string \"the UNIVERSE is a SIMULATION\" to be a normal sentence, then a proper title, then print the results."
   ]
  },
  {
   "cell_type": "code",
   "execution_count": 37,
   "metadata": {},
   "outputs": [
    {
     "name": "stdout",
     "output_type": "stream",
     "text": [
      "the universe is a simulation\n",
      "The Universe is a simulation\n"
     ]
    }
   ],
   "source": [
    "text = \"the universe is a simulation\"\n",
    "print(text)\n",
    "\n",
    "words = text.split()\n",
    "words[0] = words[0].capitalize()\n",
    "words[1] = words[1].capitalize()\n",
    "new_text = \" \".join(words)\n",
    "print(new_text)\n",
    "\n",
    "#So over-complicated ^"
   ]
  },
  {
   "cell_type": "code",
   "execution_count": 43,
   "metadata": {},
   "outputs": [
    {
     "name": "stdout",
     "output_type": "stream",
     "text": [
      "The universe is a simulation\n",
      "The Universe Is A Simulation\n",
      "THE UNIVERSE IS A SIMULATION\n",
      "the universe is a simulation\n"
     ]
    }
   ],
   "source": [
    "print(\"the universe is a simulation\".capitalize())\n",
    "print(\"the universe is a simulation\".title())\n",
    "print(\"the universe is a simulation\".upper())\n",
    "print(\"the universe is a simulation\".lower())"
   ]
  },
  {
   "cell_type": "markdown",
   "metadata": {},
   "source": [
    "### `startswith()` and `endswith()`\n",
    "\n",
    "These methods check if the string starts or ends with the given substring, respectively, and return a boolean value."
   ]
  },
  {
   "cell_type": "code",
   "execution_count": 11,
   "metadata": {},
   "outputs": [
    {
     "name": "stdout",
     "output_type": "stream",
     "text": [
      "True\n",
      "True\n",
      "False\n"
     ]
    }
   ],
   "source": [
    "sentence = \"Python is fun.\"\n",
    "print(sentence.startswith(\"Python\"))  # True\n",
    "print(sentence.endswith(\"un.\"))       # True\n",
    "print(sentence.endswith(\"boring.\"))   # False"
   ]
  },
  {
   "cell_type": "markdown",
   "metadata": {},
   "source": [
    "### Quick Assignment 11\n",
    "\n",
    "Check if the string \"Hello world!\" starts with \"Hi\" and ends with \"!\"."
   ]
  },
  {
   "cell_type": "code",
   "execution_count": 44,
   "metadata": {},
   "outputs": [
    {
     "name": "stdout",
     "output_type": "stream",
     "text": [
      "False\n",
      "True\n"
     ]
    }
   ],
   "source": [
    "text = \"Hello world!\"\n",
    "print(text.startswith(\"Hi\"))\n",
    "print(text.endswith(\"!\"))\n"
   ]
  },
  {
   "cell_type": "markdown",
   "metadata": {},
   "source": [
    "### `find()` and `rfind()`\n",
    "\n",
    "`find()` returns the index of the first occurrence of a substring, and `-1` if not found. `rfind()` starts the search from the end of the string."
   ]
  },
  {
   "cell_type": "code",
   "execution_count": 12,
   "metadata": {},
   "outputs": [
    {
     "name": "stdout",
     "output_type": "stream",
     "text": [
      "7\n",
      "15\n"
     ]
    }
   ],
   "source": [
    "message = \"I love Python. Python is fun.\"\n",
    "print(message.find(\"Python\"))  # 7\n",
    "print(message.rfind(\"Python\")) # 18"
   ]
  },
  {
   "cell_type": "markdown",
   "metadata": {},
   "source": [
    "### Quick Assignment 12\n",
    "\n",
    "Find the first and last occurrence of the word \"data\" in the string \"Data is the new oil. Big data is a Big Deal.\". Then, try to make this search case-insensitive - try to detect the \"Data\" as well."
   ]
  },
  {
   "cell_type": "code",
   "execution_count": 55,
   "metadata": {},
   "outputs": [
    {
     "name": "stdout",
     "output_type": "stream",
     "text": [
      "25\n",
      "0\n",
      "-1\n",
      "39\n"
     ]
    }
   ],
   "source": [
    "oil = \"Data is the new oil. Big data is a Big Deal\"\n",
    "print(oil.find(\"data\"))\n",
    "print(oil.find(\"Data\"))\n",
    "print(oil.rfind(\"deal\"))\n",
    "print(oil.find(\"Deal\"))"
   ]
  },
  {
   "cell_type": "markdown",
   "metadata": {},
   "source": [
    "### `replace()`\n",
    "\n",
    "This method replaces all occurrences of a given substring with another."
   ]
  },
  {
   "cell_type": "code",
   "execution_count": 13,
   "metadata": {},
   "outputs": [
    {
     "name": "stdout",
     "output_type": "stream",
     "text": [
      "Python is nice.\n"
     ]
    }
   ],
   "source": [
    "text = \"Java is nice.\"\n",
    "new_text = text.replace(\"Java\", \"Python\")\n",
    "print(new_text)"
   ]
  },
  {
   "cell_type": "markdown",
   "metadata": {},
   "source": [
    "### Quick Assignment 13\n",
    "\n",
    "Replace all occurrences of \"bad\" with \"good\" in the string \"A bad example sets a bad precedent.\""
   ]
  },
  {
   "cell_type": "code",
   "execution_count": 64,
   "metadata": {},
   "outputs": [
    {
     "name": "stdout",
     "output_type": "stream",
     "text": [
      "A good example sets a good precedent.\n",
      "Unfriendly is friendly \n",
      " Friendly is unfriendly\n"
     ]
    }
   ],
   "source": [
    "qwe = \"A bad example sets a bad precedent.\"\n",
    "new_texts = qwe.replace(\"bad\", \"good\")\n",
    "print(new_texts)\n",
    "\n",
    "tyu = \"Friendly is friendly\"\n",
    "change = tyu.replace(\"Friendly\", \"Unfriendly\")\n",
    "changet = tyu.replace(\"friendly\", \"unfriendly\")\n",
    "print(change,\"\\n\",changet)"
   ]
  },
  {
   "cell_type": "markdown",
   "metadata": {},
   "source": [
    "### `strip()`, `rstrip()`, and `lstrip()`\n",
    "\n",
    "These methods return a copy of the string with leading (`lstrip()`), trailing (`rstrip()`) or both leading and trailing (`strip()`) whitespace characters removed."
   ]
  },
  {
   "cell_type": "code",
   "execution_count": 14,
   "metadata": {},
   "outputs": [
    {
     "name": "stdout",
     "output_type": "stream",
     "text": [
      "| whitespaced all around    |\n",
      "|    whitespaced all around |\n",
      "| whitespaced all around |\n"
     ]
    }
   ],
   "source": [
    "dirty_text = \"   whitespaced all around   \"\n",
    "print('|', dirty_text.lstrip(), '|')\n",
    "print('|', dirty_text.rstrip(), '|')\n",
    "print('|', dirty_text.strip(), '|')"
   ]
  },
  {
   "cell_type": "markdown",
   "metadata": {},
   "source": [
    "### Quick Assignment 14\n",
    "\n",
    "Remove the extra spaces from the string \"    Too much space!    \" using `strip()`."
   ]
  },
  {
   "cell_type": "code",
   "execution_count": 80,
   "metadata": {},
   "outputs": [
    {
     "name": "stdout",
     "output_type": "stream",
     "text": [
      "Too much space!\n",
      " Too much space!\n",
      "Too much space! \n",
      "\" Too much space! \"   \n",
      "   \" Too much space! \"\n"
     ]
    }
   ],
   "source": [
    "spaces = \" Too much space! \"\n",
    "print(spaces.strip())\n",
    "print(spaces.rstrip())\n",
    "print(spaces.lstrip())\n",
    "\n",
    "spaces = \"   \\\" Too much space! \\\"   \"\n",
    "print(spaces.lstrip())\n",
    "print(spaces.rstrip())\n"
   ]
  },
  {
   "cell_type": "markdown",
   "metadata": {},
   "source": [
    "---\n",
    "\n",
    "## String Formatting"
   ]
  },
  {
   "cell_type": "markdown",
   "metadata": {},
   "source": [
    "Python provides several ways to format strings. String formatting is a very convenient way to structure strings for user interface, output, or just leaving a text record of events (logging). String formatting is a way to inject data into strings. Python provides multiple methods to format strings, allowing you to control the presentation of variables in your output. Let's explore these methods."
   ]
  },
  {
   "cell_type": "markdown",
   "metadata": {},
   "source": [
    "### f-strings (formatted string literals):\n",
    "\n",
    "Introduced in Python 3.6, f-strings offer a concise way to embed expressions inside string literals."
   ]
  },
  {
   "cell_type": "code",
   "execution_count": 19,
   "metadata": {},
   "outputs": [
    {
     "name": "stdout",
     "output_type": "stream",
     "text": [
      "My name is Alice and I am 30 years old.\n"
     ]
    }
   ],
   "source": [
    "name = \"Alice\"\n",
    "age = 30\n",
    "formatted_string = f\"My name is {name} and I am {age} years old.\"\n",
    "print(formatted_string)"
   ]
  },
  {
   "cell_type": "markdown",
   "metadata": {},
   "source": [
    "### Quick Assignment 15\n",
    "\n",
    "Create a main contract line into f-string, making subject and parties as variables defined above.\n"
   ]
  },
  {
   "cell_type": "code",
   "execution_count": 82,
   "metadata": {},
   "outputs": [
    {
     "name": "stdout",
     "output_type": "stream",
     "text": [
      "I've played league for 1218979 and my rank is Challenger\n",
      "Are we going to the party? It sounds fun\n",
      "I've played league for 1218979 and my rank is Challenger\n"
     ]
    }
   ],
   "source": [
    "rank = \"Challenger\"\n",
    "time_played = 1218979\n",
    "league_of_legends = f\"I've played league for {time_played} and my rank is {rank}\"\n",
    "print(league_of_legends)\n",
    "\n",
    "subject = \"party\"\n",
    "parties = \"fun\"\n",
    "fun_time = f\"Are we going to the {subject}? It sounds {parties}\"\n",
    "print(fun_time)\n",
    "\n",
    "league_of_legends = \"I've played league for {} and my rank is {}\".format(time_played, rank)\n",
    "print(league_of_legends)"
   ]
  },
  {
   "cell_type": "markdown",
   "metadata": {},
   "source": [
    "### The `.format()` method:\n",
    "\n",
    "Before f-strings, the `str.format()` method was the primary way to format strings in Python.\n"
   ]
  },
  {
   "cell_type": "code",
   "execution_count": 84,
   "metadata": {},
   "outputs": [
    {
     "name": "stdout",
     "output_type": "stream",
     "text": [
      "My name is Zanas and I am 20 years old.\n"
     ]
    }
   ],
   "source": [
    "name = \"Zanas\"\n",
    "age = 20\n",
    "formatted_string = \"My name is {} and I am {} years old.\".format(name, age)\n",
    "print(formatted_string)"
   ]
  },
  {
   "cell_type": "markdown",
   "metadata": {},
   "source": [
    "You can also use positional and keyword arguments to specify the order."
   ]
  },
  {
   "cell_type": "code",
   "execution_count": 21,
   "metadata": {},
   "outputs": [
    {
     "name": "stdout",
     "output_type": "stream",
     "text": [
      "I am 30 years old. My name is Alice.\n"
     ]
    }
   ],
   "source": [
    "formatted_string = \"I am {1} years old. My name is {0}.\".format(name, age)\n",
    "print(formatted_string)"
   ]
  },
  {
   "cell_type": "code",
   "execution_count": 86,
   "metadata": {},
   "outputs": [
    {
     "name": "stdout",
     "output_type": "stream",
     "text": [
      "This is a test2 and this is test.\n"
     ]
    }
   ],
   "source": [
    "test = \"test2\"\n",
    "test1 = \"test\"\n",
    "text = \"This is a {1} and this is {0}.\".format(test1, test)\n",
    "print(text)"
   ]
  },
  {
   "cell_type": "markdown",
   "metadata": {},
   "source": [
    "### Quick Assignment 16\n",
    "Make the 15th Quick Assignment by using `.format()` instead."
   ]
  },
  {
   "cell_type": "code",
   "execution_count": null,
   "metadata": {},
   "outputs": [],
   "source": [
    "test = \"test2\"\n",
    "test1 = \"test\"\n",
    "text = \"This is a {1} and this is {0}.\".format(test1, test)\n",
    "print(text)"
   ]
  },
  {
   "cell_type": "markdown",
   "metadata": {},
   "source": [
    "### %-formatting:\n",
    "\n",
    "This is one of the oldest methods for string formatting, borrowed from C language. Note, that you must define variable type. `%s` stands for string, `%d` is integer and `%f` is a float. There are other formats."
   ]
  },
  {
   "cell_type": "code",
   "execution_count": 87,
   "metadata": {},
   "outputs": [
    {
     "name": "stdout",
     "output_type": "stream",
     "text": [
      "My name is Zanas and I am 20 years old.\n",
      "<class 'str'>\n",
      "<class 'int'>\n"
     ]
    }
   ],
   "source": [
    "formatted_string = \"My name is %s and I am %d years old.\" % (name, age)\n",
    "print(formatted_string)\n",
    "print(type(name))\n",
    "print(type(age))"
   ]
  },
  {
   "cell_type": "code",
   "execution_count": 90,
   "metadata": {},
   "outputs": [
    {
     "name": "stdout",
     "output_type": "stream",
     "text": [
      "This Cute pie is 20 days overdue.\n",
      "<class 'str'>\n",
      "<class 'int'>\n",
      "<class 'str'>\n"
     ]
    }
   ],
   "source": [
    "something = \"Cute pie\"\n",
    "expired = 20\n",
    "days = \"days\"\n",
    "overdue = \"This %s is %d %s overdue.\" % (something, expired, days)\n",
    "print(overdue)\n",
    "\n",
    "print(type(something))\n",
    "print(type(expired))\n",
    "print(type(days))"
   ]
  },
  {
   "cell_type": "markdown",
   "metadata": {},
   "source": [
    "### Number Formatting:\n",
    "\n",
    "While formatting strings, sometimes you need to format numbers in a specific manner, like controlling the number of decimal places, adding spaces or leading zeros, etc.\n",
    "\n",
    "#### Using f-strings:"
   ]
  },
  {
   "cell_type": "code",
   "execution_count": 23,
   "metadata": {},
   "outputs": [
    {
     "name": "stdout",
     "output_type": "stream",
     "text": [
      "123.46\n"
     ]
    }
   ],
   "source": [
    "number = 123.4567\n",
    "formatted_number = f\"{number:.2f}\"\n",
    "print(formatted_number)"
   ]
  },
  {
   "cell_type": "code",
   "execution_count": 93,
   "metadata": {},
   "outputs": [
    {
     "name": "stdout",
     "output_type": "stream",
     "text": [
      "3812.13298\n",
      "123.5\n"
     ]
    }
   ],
   "source": [
    "numbers = 3812.132983129\n",
    "form_number = f\"{numbers:.5f}\"\n",
    "print(form_number)\n",
    "\n",
    "keys = 123.54710\n",
    "form_keys = f\"{keys:.1f}\"\n",
    "print(form_keys)"
   ]
  },
  {
   "cell_type": "code",
   "execution_count": 12,
   "metadata": {},
   "outputs": [
    {
     "name": "stdout",
     "output_type": "stream",
     "text": [
      "1283.58\n"
     ]
    }
   ],
   "source": [
    "hello = 1283.581\n",
    "hello2 = f\"{hello:.2f}\"\n",
    "print(hello2)"
   ]
  },
  {
   "cell_type": "markdown",
   "metadata": {},
   "source": [
    "#### Using `.format()` method:"
   ]
  },
  {
   "cell_type": "code",
   "execution_count": 91,
   "metadata": {},
   "outputs": [
    {
     "name": "stdout",
     "output_type": "stream",
     "text": [
      "123.46\n"
     ]
    }
   ],
   "source": [
    "number = 123.4567\n",
    "formatted_number = \"{:.2f}\".format(number)\n",
    "print(formatted_number)"
   ]
  },
  {
   "cell_type": "markdown",
   "metadata": {},
   "source": [
    "### Spacing and Alignment:\n",
    "\n",
    "You can control the spacing and alignment of variables within formatted strings.\n",
    "\n",
    "Using f-strings:"
   ]
  },
  {
   "cell_type": "code",
   "execution_count": 31,
   "metadata": {},
   "outputs": [
    {
     "name": "stdout",
     "output_type": "stream",
     "text": [
      "First:        Kęstutis\n",
      "Last:    Januškevičius\n"
     ]
    }
   ],
   "source": [
    "first_name = \"Kęstutis\"\n",
    "last_name = \"Januškevičius\"\n",
    "formatted_string = f\"First: {first_name:>15}\\nLast: {last_name:>16}\"\n",
    "print(formatted_string)"
   ]
  },
  {
   "cell_type": "markdown",
   "metadata": {},
   "source": [
    "Using `.format()` method:"
   ]
  },
  {
   "cell_type": "code",
   "execution_count": 37,
   "metadata": {},
   "outputs": [
    {
     "name": "stdout",
     "output_type": "stream",
     "text": [
      "Name:       John\n",
      "Name:             Jennifer\n"
     ]
    }
   ],
   "source": [
    "name = \"John\"\n",
    "formatted_string = \"Name: {:>10}\".format(name)\n",
    "print(formatted_string)\n",
    "\n",
    "name = \"Jennifer\"\n",
    "formatted_name = \"Name: {:>20}\".format(name)\n",
    "print(formatted_name)"
   ]
  },
  {
   "cell_type": "code",
   "execution_count": 11,
   "metadata": {},
   "outputs": [
    {
     "name": "stdout",
     "output_type": "stream",
     "text": [
      "obuolys              ---       3.90\n",
      "ikrai                ---        777\n"
     ]
    }
   ],
   "source": [
    "produktas1 = \"obuolys\"\n",
    "kaina1 = 3.9\n",
    "produktas2 = \"ikrai\" \n",
    "kaina2 = 777\n",
    "eilute1 = f\"{produktas1:20} --- {kaina1:10.2f}\"\n",
    "eilute2 = f\"{produktas2:20} --- {kaina2:10.2f}\"\n",
    "print(eilute1)\n",
    "print(eilute2)"
   ]
  },
  {
   "cell_type": "markdown",
   "metadata": {},
   "source": [
    "### Quick Assignment 17\n",
    "\n",
    "Create a string that displays 2 column table row. Left side would be text up to 30 characters long, right side - right-aligned number with a total width of 10 characters and a precision of 2 decimal places. Print a few example rows filled with fictional data."
   ]
  },
  {
   "cell_type": "code",
   "execution_count": 31,
   "metadata": {},
   "outputs": [
    {
     "name": "stdout",
     "output_type": "stream",
     "text": [
      " This is totally 30 characters     123.32\n",
      "29\n"
     ]
    }
   ],
   "source": [
    "textp = \"This is totally 30 characters\"\n",
    "numberr = 123.321312\n",
    "form_text = f\"{textp:>30} {numberr:10.2f}\"\n",
    "print(form_text)\n",
    "\n",
    "print(len(textp))\n",
    "\n",
    "#Form_text isn't moving from left to right with decision checkers `>` `<` because the line of text can only be 30 char long, and the current length is 29char so it only moves by one."
   ]
  },
  {
   "cell_type": "markdown",
   "metadata": {},
   "source": [
    "With these formatting tools in your arsenal, you can control the appearance of your strings and numbers with precision. Whether you're displaying data to the console, writing it to a file, or sending it over a network, these string formatting techniques will allow you to present your data exactly as desired."
   ]
  },
  {
   "cell_type": "markdown",
   "metadata": {},
   "source": [
    "---\n",
    "\n",
    "## `print()` Function: `sep` and `end` Arguments\n"
   ]
  },
  {
   "cell_type": "markdown",
   "metadata": {},
   "source": [
    "We can use `sep` and `end` arguments for the `print()` function to format our output. `sep` argument replaces space ` ` as a separator, and `end` replaces `\\n` new line as a finisher of the print output. Examples:"
   ]
  },
  {
   "cell_type": "code",
   "execution_count": 17,
   "metadata": {},
   "outputs": [
    {
     "name": "stdout",
     "output_type": "stream",
     "text": [
      "Hello-World!"
     ]
    }
   ],
   "source": [
    "print(\"Hello\", \"World\", sep=\"-\", end=\"!\")"
   ]
  },
  {
   "cell_type": "code",
   "execution_count": 18,
   "metadata": {},
   "outputs": [
    {
     "name": "stdout",
     "output_type": "stream",
     "text": [
      "Dinner plan:\n",
      "- carpaccio\n",
      "- pasta\n",
      "- carne carne carne\n",
      "- insalata\n",
      "- caffe macciato\n",
      "e dolce!\n"
     ]
    }
   ],
   "source": [
    "antipasto = 'carpaccio'\n",
    "primo = 'pasta'\n",
    "secondo = 'carne carne carne'\n",
    "contorno = 'insalata'\n",
    "bebita = 'caffe macciato'\n",
    "print(\"Dinner plan:\", end=\"\\n- \")\n",
    "print(\n",
    "    antipasto, \n",
    "    primo, \n",
    "    secondo, \n",
    "    contorno, \n",
    "    bebita, \n",
    "    sep=\"\\n- \", \n",
    "    end=\"\\ne dolce!\\n\"\n",
    ")"
   ]
  },
  {
   "cell_type": "code",
   "execution_count": 45,
   "metadata": {},
   "outputs": [
    {
     "name": "stdout",
     "output_type": "stream",
     "text": [
      "1-2-3.\n",
      "sekantis...\n",
      "paskutinis\n",
      "5.7€\n"
     ]
    }
   ],
   "source": [
    "pirmas = 1\n",
    "antras = 2\n",
    "trecias = 3\n",
    "money = 5.7\n",
    "print(pirmas, antras, trecias, sep = '-', end = \".\\n\")\n",
    "print(\"sekantis\", end='...\\n')\n",
    "print(\"paskutinis\")\n",
    "print(money, end = '€\\n', sep = '...\\n')"
   ]
  },
  {
   "cell_type": "markdown",
   "metadata": {},
   "source": [
    "### Quick Assignemnt 18\n",
    "\n",
    "Use the `sep` and `end` arguments of the `print` function to print the numbers 5 to 0 separated by \"... \" and ending with the string \" Lift-off!\"."
   ]
  },
  {
   "cell_type": "code",
   "execution_count": 54,
   "metadata": {},
   "outputs": [
    {
     "name": "stdout",
     "output_type": "stream",
     "text": [
      "0...1...2...3...4...5\n",
      "Lift off!\n",
      "5...4...3...2...1...0 Lift off!"
     ]
    }
   ],
   "source": [
    "zero = 0\n",
    "one = 1\n",
    "two = 2\n",
    "three = 3\n",
    "four = 4\n",
    "five = 5\n",
    "print(zero, one, two, three, four, five, sep = '...', end = \"\\nLift off!\\n\")\n",
    "\n",
    "\n",
    "# Easier version:\n",
    "\n",
    "print(5, 4, 3, 2, 1, 0, sep = '...', end = \" Lift off!\")"
   ]
  },
  {
   "cell_type": "markdown",
   "metadata": {},
   "source": [
    "---\n",
    "\n",
    "## Conclusion\n",
    "\n",
    "Strings are a fundamental data type in Python and offer a multitude of methods to handle and manipulate text data efficiently. From changing case to searching and replacing substrings, the built-in methods can help perform most of the common tasks with ease.\n",
    "\n",
    "As you progress in your Python journey, you'll encounter numerous scenarios where string operations become critical. Whether it's processing user input, reading data from files, or handling responses from web requests, a strong understanding of strings will be invaluable.\n",
    "\n",
    "Remember, practice is the key. The more you work with strings, trying out different methods and experimenting with various operations, the more comfortable and skilled you'll become. So, take the time to familiarize yourself with these methods, use them in your projects, and always keep learning!"
   ]
  },
  {
   "cell_type": "markdown",
   "metadata": {},
   "source": [
    "---\n",
    "\n",
    "## Additional Reading"
   ]
  },
  {
   "cell_type": "markdown",
   "metadata": {},
   "source": [
    "* [Official Python Documentation on Strings](https://docs.python.org/3/tutorial/introduction.html#text)\n",
    "* [Python String Methods](https://www.w3schools.com/python/python_ref_string.asp)\n",
    "* [String Formatting](https://realpython.com/python-f-strings/)"
   ]
  }
 ],
 "metadata": {
  "kernelspec": {
   "display_name": "venv",
   "language": "python",
   "name": "python3"
  },
  "language_info": {
   "codemirror_mode": {
    "name": "ipython",
    "version": 3
   },
   "file_extension": ".py",
   "mimetype": "text/x-python",
   "name": "python",
   "nbconvert_exporter": "python",
   "pygments_lexer": "ipython3",
   "version": "3.12.1"
  },
  "orig_nbformat": 4
 },
 "nbformat": 4,
 "nbformat_minor": 2
}
