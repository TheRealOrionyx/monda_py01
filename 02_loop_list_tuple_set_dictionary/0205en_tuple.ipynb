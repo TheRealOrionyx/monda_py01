{
 "cells": [
  {
   "cell_type": "markdown",
   "metadata": {},
   "source": [
    "# Tuple\n",
    "In Python, a `tuple` is a collection data type that is similar to a list but with one key difference: tuples are immutable. This means that once you create a tuple, you cannot change its contents (add, remove, or modify elements). Tuples are defined using parentheses `()` or simply a comma `,` to separate the elements."
   ]
  },
  {
   "cell_type": "markdown",
   "metadata": {},
   "source": [
    "## Creating Tuples\n",
    "Creating a `tuple` in Python is very similar to creating a list, but instead of square brackets [], you use a pair of parentheses ():"
   ]
  },
  {
   "cell_type": "code",
   "execution_count": 1,
   "metadata": {},
   "outputs": [
    {
     "name": "stdout",
     "output_type": "stream",
     "text": [
      "(1,)\n",
      "<class 'tuple'>\n"
     ]
    }
   ],
   "source": [
    "single_element_tuple = (1,)\n",
    "print(single_element_tuple)  # (1,)\n",
    "print(type(single_element_tuple))  # <class 'tuple'>"
   ]
  },
  {
   "cell_type": "markdown",
   "metadata": {},
   "source": [
    "Note: An empty tuple doesn't make much sense, so it's not common to create one.\n",
    "\n",
    "Creating a Tuple with Multiple Elements:"
   ]
  },
  {
   "cell_type": "code",
   "execution_count": 2,
   "metadata": {},
   "outputs": [
    {
     "name": "stdout",
     "output_type": "stream",
     "text": [
      "(1, 2, 3, 4, 5)\n",
      "(1, 'two', 3.0, [4, 5], True)\n"
     ]
    }
   ],
   "source": [
    "number_tuple = (1, 2, 3, 4, 5)\n",
    "print(number_tuple)  # (1, 2, 3, 4, 5)\n",
    "mixed_tuple = (1, 'two', 3.0, [4, 5], True)\n",
    "print(mixed_tuple)  # (1, 'two', 3.0, [4, 5], True)"
   ]
  },
  {
   "cell_type": "markdown",
   "metadata": {},
   "source": [
    "# `Quick Assignment 1: Creating a Tuple`\n",
    "\n",
    "1. Create a Python tuple with your favorite `colors` and print it. \n",
    "- Remember to use **parentheses** to define the tuple."
   ]
  },
  {
   "cell_type": "code",
   "execution_count": 3,
   "metadata": {},
   "outputs": [
    {
     "name": "stdout",
     "output_type": "stream",
     "text": [
      "('red', 'green', 'blue')\n",
      "<class 'tuple'>\n"
     ]
    }
   ],
   "source": [
    "fav_colors = (\"red\", \"green\", \"blue\")\n",
    "print(fav_colors)\n",
    "print(type(fav_colors))"
   ]
  },
  {
   "cell_type": "markdown",
   "metadata": {},
   "source": [
    "## Tuple Concatenation\n",
    "\n",
    "To concatenate two or more tuples, you can use the `+` operator. This operator combines the tuple values and returns a new tuple with all the elements. For example:"
   ]
  },
  {
   "cell_type": "code",
   "execution_count": 4,
   "metadata": {},
   "outputs": [
    {
     "name": "stdout",
     "output_type": "stream",
     "text": [
      "(1, 2, 3, 'a', 'b', 'c', True, False)\n"
     ]
    }
   ],
   "source": [
    "first_tuple = (1, 2, 3)\n",
    "second_tuple = ('a', 'b', 'c')\n",
    "third_tuple = (True, False)\n",
    "\n",
    "new_tuple = first_tuple + second_tuple + third_tuple\n",
    "\n",
    "print(new_tuple)"
   ]
  },
  {
   "cell_type": "markdown",
   "metadata": {},
   "source": [
    "# `Quick Assignment 2: Fruit Inventory`\n",
    "\n",
    "1. Create three tuples:\n",
    "- `fruits`: Three fruit names.\n",
    "- `colors`: Three corresponding colors.\n",
    "- `quantities`: Three quantities.\n",
    "1. Combine these three tuples into a single tuple named `inventory`.\n",
    "1. Print the `inventory` tuple.\n",
    "1. Print the information for the second fruit in the `inventory`.\n",
    "1. Calculate and print the total quantity of fruits in the `inventory`."
   ]
  },
  {
   "cell_type": "code",
   "execution_count": 5,
   "metadata": {},
   "outputs": [
    {
     "name": "stdout",
     "output_type": "stream",
     "text": [
      "Inventory:  ('cherry', 'apple', 'banana', 'red', 'green', 'blue', 12, 42, 3)\n",
      "Information for the second fruit is:  apple\n",
      "Total quantity is: 57\n"
     ]
    }
   ],
   "source": [
    "fruits = ('cherry', 'apple', 'banana')\n",
    "colors = ('red', 'green', 'blue')\n",
    "quantities = (12, 42, 3)\n",
    "\n",
    "inventory = fruits + colors + quantities\n",
    "print(\"Inventory: \", inventory)\n",
    "\n",
    "second_fruit = inventory[1]\n",
    "print(\"Information for the second fruit is: \", second_fruit)\n",
    "\n",
    "total_quantity = sum(inventory[6:])\n",
    "print(\"Total quantity is:\", total_quantity)\n"
   ]
  },
  {
   "cell_type": "markdown",
   "metadata": {},
   "source": [
    "## Accessing Tuple Elements\n",
    "\n",
    "Accessing elements in a tuple is similar to lists. Think of indices as positions in the tuple, starting from the first element at position 0. The last element can be accessed using the position -1."
   ]
  },
  {
   "cell_type": "code",
   "execution_count": 6,
   "metadata": {},
   "outputs": [
    {
     "name": "stdout",
     "output_type": "stream",
     "text": [
      "1\n",
      "[4, 5]\n",
      "True\n"
     ]
    }
   ],
   "source": [
    "mixed_tuple = (1, 'two', 3.0, [4, 5], True)\n",
    "\n",
    "print(mixed_tuple[0])   # 1\n",
    "print(mixed_tuple[3])   # [4, 5]\n",
    "print(mixed_tuple[-1])  # True"
   ]
  },
  {
   "cell_type": "markdown",
   "metadata": {},
   "source": [
    "# `Quick Assignment 3: Tuple Indexing Exercise`\n",
    "\n",
    "In this assignment, you will practice accessing elements in a tuple. Follow these simple tasks:\n",
    "\n",
    "1. Create a tuple named `info` with the following data:\n",
    "- Your `first name` (a string).\n",
    "- Your `age` (an integer).\n",
    "- Your favorite `color` (a string).\n",
    "2. Print your `age` by accessing the appropriate element from the `info` tuple.\n",
    "3. Print your favorite `color`."
   ]
  },
  {
   "cell_type": "code",
   "execution_count": 7,
   "metadata": {},
   "outputs": [
    {
     "name": "stdout",
     "output_type": "stream",
     "text": [
      "Your age: 20\n",
      "Your favorite color: Red\n"
     ]
    }
   ],
   "source": [
    "info = ('Zanas', 20, 'Red')\n",
    "\n",
    "print(\"Your age:\", info[1])\n",
    "\n",
    "print(\"Your favorite color:\", info[2])"
   ]
  },
  {
   "cell_type": "markdown",
   "metadata": {},
   "source": [
    "# Tuple Slicing\n",
    "\n",
    "Slicing tuples works just like with lists. You can choose a starting and ending point, and even decide how big of a step you want to take. \n",
    "\n",
    "**Here's an example**:"
   ]
  },
  {
   "cell_type": "code",
   "execution_count": 8,
   "metadata": {},
   "outputs": [
    {
     "name": "stdout",
     "output_type": "stream",
     "text": [
      "Example 1: ('c', 'd')\n",
      "Example 2: ('a', 'c')\n",
      "Example 3: ('a', 'b', 'c', 'd')\n",
      "Example 4: ('c', 'e')\n",
      "Example 5: ('f', 'e', 'd', 'c', 'b', 'a')\n"
     ]
    }
   ],
   "source": [
    "# Let's use a tuple of letters for demonstration\n",
    "letters_tuple = ('a', 'b', 'c', 'd', 'e', 'f')\n",
    "\n",
    "# Example 1: Select elements from index 2 to 3\n",
    "print(\"Example 1:\", letters_tuple[2:4])      # Output: ('c', 'd')\n",
    "\n",
    "# Example 2: Select elements starting from index 0, skipping every 2nd element, up to index 2\n",
    "print(\"Example 2:\", letters_tuple[0:3:2])    # Output: ('a', 'c')\n",
    "\n",
    "# Example 3: Select elements from the beginning up to index 3\n",
    "print(\"Example 3:\", letters_tuple[:4])       # Output: ('a', 'b', 'c', 'd')\n",
    "\n",
    "# Example 4: Select elements starting from index 2, skipping every 2nd element\n",
    "print(\"Example 4:\", letters_tuple[2::2])     # Output: ('c', 'e')\n",
    "\n",
    "# Example 5: Reverse the entire tuple\n",
    "print(\"Example 5:\", letters_tuple[::-1])     # Output: ('f', 'e', 'd', 'c', 'b', 'a')"
   ]
  },
  {
   "cell_type": "markdown",
   "metadata": {},
   "source": [
    "# `Quick Assignment 4: Tuple Slicing Exercise`\n",
    "\n",
    "Write a Python program that defines a tuple with the days of the week ('`Monday`', '`Tuesday`', '`Wednesday`', '`Thursday`', '`Friday`', '`Saturday`', '`Sunday`'). \n",
    "\n",
    "Use tuple slicing to create the following:\n",
    "\n",
    "1. A tuple for weekdays (Monday to Friday).\n",
    "1. A tuple for weekend days (Saturday and Sunday).\n",
    "1. A tuple for the first three days of the week.\n",
    "1. A tuple for the last three days of the week.\n",
    "1. A tuple for the days of the week in reverse order.\n",
    "Print each new tuple to check your results."
   ]
  },
  {
   "cell_type": "code",
   "execution_count": 9,
   "metadata": {},
   "outputs": [
    {
     "name": "stdout",
     "output_type": "stream",
     "text": [
      "('monday', 'tuesday', 'wednesday', 'thursday', 'friday')\n",
      "('saturday', 'sunday')\n",
      "('monday', 'tuesday', 'wednesday')\n",
      "('friday', 'saturday', 'sunday')\n",
      "('sunday', 'saturday', 'friday', 'thursday', 'wednesday', 'tuesday', 'monday')\n"
     ]
    }
   ],
   "source": [
    "list = ('monday', 'tuesday', 'wednesday', 'thursday', 'friday', 'saturday', 'sunday')\n",
    "\n",
    "week_days = list[:5]\n",
    "print(week_days)\n",
    "\n",
    "weekend = list[5:]\n",
    "print(weekend)\n",
    "\n",
    "first_three = list[:3]\n",
    "print(first_three)\n",
    "\n",
    "last_three = list[4:]\n",
    "print(last_three)\n",
    "\n",
    "reverse = list[::-1]\n",
    "print(reverse)"
   ]
  },
  {
   "cell_type": "markdown",
   "metadata": {},
   "source": [
    "# Tuple Methods\n",
    "A tuple is an immutable object, so it doesn't have as many methods as a list. However, there are several useful methods available.\n",
    "\n",
    "`count(x)` - returns how many times the specified element appears in the tuple."
   ]
  },
  {
   "cell_type": "code",
   "execution_count": 10,
   "metadata": {},
   "outputs": [
    {
     "name": "stdout",
     "output_type": "stream",
     "text": [
      "2\n"
     ]
    }
   ],
   "source": [
    "letters_tuple = ('a', 'b', 'c', 'a', 'd')\n",
    "print(letters_tuple.count('a'))  # 2"
   ]
  },
  {
   "cell_type": "markdown",
   "metadata": {},
   "source": [
    "`index(x)` - returns the index of the first occurrence of the specified element in the tuple."
   ]
  },
  {
   "cell_type": "code",
   "execution_count": 11,
   "metadata": {},
   "outputs": [
    {
     "name": "stdout",
     "output_type": "stream",
     "text": [
      "0\n"
     ]
    }
   ],
   "source": [
    "letters_tuple = ('a', 'b', 'c', 'a', 'd')\n",
    "print(letters_tuple.index('a'))  # 0"
   ]
  },
  {
   "cell_type": "markdown",
   "metadata": {},
   "source": [
    "## Checking if an element is in a tuple\n",
    "You can check if a tuple contains an element using the `in` operator. This operator will return `True` if the element value is in the tuple and `False` if it's not."
   ]
  },
  {
   "cell_type": "code",
   "execution_count": 12,
   "metadata": {},
   "outputs": [
    {
     "name": "stdout",
     "output_type": "stream",
     "text": [
      "True\n",
      "False\n"
     ]
    }
   ],
   "source": [
    "letters_tuple = ('a', 'b', 'c', 'a', 'd')\n",
    "print('a' in letters_tuple)  # True\n",
    "print('e' in letters_tuple)  # False"
   ]
  },
  {
   "cell_type": "markdown",
   "metadata": {},
   "source": [
    "# `Quick Assignment 5: Tuple Methods Practice`\n",
    "\n",
    "In this assignment, you'll explore tuple methods. Follow these simple tasks:\n",
    "\n",
    "1. Create a tuple named `numbers` containing a few integer values (e.g., 1, 2, 3, 4, 5).\n",
    "1. Use the `count()` method to find and print the number of times the value 3 appears in the `numbers` tuple.\n",
    "1. Use the `index()` method to find and print the index of the first occurrence of the value 4 in the `numbers` tuple.\n",
    "1. Check if the value 6 is in the `numbers` tuple using the `in` operator and print the result."
   ]
  },
  {
   "cell_type": "code",
   "execution_count": 13,
   "metadata": {},
   "outputs": [
    {
     "name": "stdout",
     "output_type": "stream",
     "text": [
      "1\n",
      "3\n",
      "False\n"
     ]
    }
   ],
   "source": [
    "numbers = (1, 2, 3, 4, 5)\n",
    "\n",
    "print(numbers.count(3))\n",
    "print(numbers.index(4))\n",
    "\n",
    "print(6 in numbers)"
   ]
  },
  {
   "cell_type": "markdown",
   "metadata": {},
   "source": [
    "# Iteration in Tuple\n",
    "\n",
    "Tuples, like lists and other iterable objects, can be looped through using `for` and `while` loops. You can iterate over the elements of a tuple to perform various operations.\n",
    "\n",
    "Here are examples of how to iterate through a tuple using both `for` and `while` loops:"
   ]
  },
  {
   "cell_type": "markdown",
   "metadata": {},
   "source": [
    "##### 1. For Loop:"
   ]
  },
  {
   "cell_type": "code",
   "execution_count": 14,
   "metadata": {},
   "outputs": [
    {
     "name": "stdout",
     "output_type": "stream",
     "text": [
      "apple\n",
      "banana\n",
      "cherry\n",
      "date\n"
     ]
    }
   ],
   "source": [
    "fruits_tuple = ('apple', 'banana', 'cherry', 'date')\n",
    "\n",
    "# Using a for loop to iterate through the tuple\n",
    "for fruit in fruits_tuple:\n",
    "    print(fruit)"
   ]
  },
  {
   "cell_type": "markdown",
   "metadata": {},
   "source": [
    "##### 2. While Loop:"
   ]
  },
  {
   "cell_type": "code",
   "execution_count": 15,
   "metadata": {},
   "outputs": [
    {
     "name": "stdout",
     "output_type": "stream",
     "text": [
      "apple\n",
      "banana\n",
      "cherry\n",
      "date\n"
     ]
    }
   ],
   "source": [
    "fruits_tuple = ('apple', 'banana', 'cherry', 'date')\n",
    "\n",
    "# Using a while loop to iterate through the tuple\n",
    "index = 0\n",
    "while index < len(fruits_tuple):\n",
    "    print(fruits_tuple[index])\n",
    "    index += 1"
   ]
  },
  {
   "cell_type": "markdown",
   "metadata": {},
   "source": [
    "- As you can see, in the `while` loop, we use the `len()` function to find out how many elements the tuple has. Then, using a variable `index`, during each iteration, we obtain the value to be printed and increase the `index` value by one to move on to the next tuple element."
   ]
  },
  {
   "cell_type": "markdown",
   "metadata": {},
   "source": [
    "# `Quick Assignment 6: Tuple Iteration Exercise`\n",
    "\n",
    "In this assignment, you will practice iterating through a tuple using both for and while loops. \n",
    "\n",
    "**Follow these tasks**:\n",
    "\n",
    "1. Create a tuple named `months` containing the names of the months of the year.\n",
    "1. Use a `for` loop to iterate through the `months` tuple and print each month's name.\n",
    "1. Use a `while` loop to iterate through the `months` tuple and print each month's name.\n",
    "1. Find and print the length of the `months` tuple."
   ]
  },
  {
   "cell_type": "code",
   "execution_count": 16,
   "metadata": {},
   "outputs": [
    {
     "name": "stdout",
     "output_type": "stream",
     "text": [
      "January, February, March, April, May, June, July, August, September, October, November, December, \n",
      "\n",
      "January, February, March, April, May, June, July, August, September, October, November, December, \n",
      "\n",
      "12\n"
     ]
    }
   ],
   "source": [
    "months = ('January', 'February', 'March', 'April', 'May', 'June', 'July', 'August', 'September', 'October', 'November', 'December')\n",
    "\n",
    "for month in months:\n",
    "    print(month, end=', ')\n",
    "\n",
    "print(\"\\n\") # Space :)\n",
    "\n",
    "x = 0\n",
    "while x < len(months):\n",
    "    print(months[x], end=', ')\n",
    "    x +=1\n",
    "\n",
    "print(\"\\n\") # Space :)\n",
    "\n",
    "print(len(months))"
   ]
  },
  {
   "cell_type": "markdown",
   "metadata": {},
   "source": [
    "# `Bonus Assignment: Tuple Manipulation`\n",
    "\n",
    "In this bonus assignment, you'll explore more advanced tuple operations, including manipulation and transformation. Follow these tasks:\n",
    "\n",
    "1. Create a tuple named `original_tuple` containing a mix of data types, including numbers, strings, and lists.\n",
    "1. Convert the `original_tuple` into a list named `modified_list`.\n",
    "1. Modify the `modified_list` by removing the first and last elements.\n",
    "1. Convert the `modified_list` back into a tuple named `new_tuple`.\n",
    "1. Find and print the number of elements that were removed from the original tuple to create the new tuple.\n",
    "1. Create a new tuple named `numeric_tuple` containing only numeric values from the `original_tuple`.\n",
    "1. Calculate and print the sum of all numeric values in the `numeric_tuple`.\n",
    "1. Create a new tuple named `string_length_tuple` containing the lengths of all the strings from the `original_tuple`.\n",
    "1. Print the `string_length_tuple`.\n",
    "1. Finally, create a dictionary named `data_dict` with the following keys and corresponding values:\n",
    "\n",
    "\"`original_tuple`\": `original_tuple`<br>\n",
    "\"`modified_list`\": `modified_list`<br>\n",
    "\"`new_tuple`\": `new_tuple`<br>\n",
    "\"`numeric_tuple`\": `numeric_tuple`<br>\n",
    "\"`string_length_tuple`\": `string_length_tuple`\n",
    "\n",
    "\n",
    "Your final output should demonstrate the results of each step, including the contents of `data_dict`.\n"
   ]
  },
  {
   "cell_type": "code",
   "execution_count": 19,
   "metadata": {},
   "outputs": [
    {
     "name": "stdout",
     "output_type": "stream",
     "text": [
      "Number of elements removed: 2\n",
      "3\n",
      "(3,)\n",
      "original_tuple: (1, 2, 'dad', [5, 6])\n",
      "modified_list: [2, 'dad']\n",
      "new_tuple: (2, 'dad')\n",
      "numeric_tuple: (1, 2)\n",
      "string_length_tuple: (3,)\n"
     ]
    }
   ],
   "source": [
    "original = (1, 2, 'dad', [5, 6])\n",
    "\n",
    "modified_list = list(original)\n",
    "modified_list.pop(0)\n",
    "modified_list.pop(-1)\n",
    "\n",
    "new = tuple(modified_list)\n",
    "\n",
    "stuff_removed = len(original) - len(new)\n",
    "print(\"Number of elements removed:\", stuff_removed)\n",
    "\n",
    "numeric_tuple = tuple(item for item in original if isinstance(item, (int, float)))\n",
    "result = sum(numeric_tuple)\n",
    "print(result)\n",
    "\n",
    "string_length_tuple = tuple(len(item) for item in original if isinstance(item, str))\n",
    "print(string_length_tuple)\n",
    "\n",
    "data_dict = {\n",
    "    \"original_tuple\": original,\n",
    "    \"modified_list\": modified_list,\n",
    "    \"new_tuple\": new,\n",
    "    \"numeric_tuple\": numeric_tuple,\n",
    "    \"string_length_tuple\": string_length_tuple\n",
    "}\n",
    "\n",
    "for key, value in data_dict.items():\n",
    "    print(f\"{key}: {value}\")"
   ]
  }
 ],
 "metadata": {
  "kernelspec": {
   "display_name": "Python 3",
   "language": "python",
   "name": "python3"
  },
  "language_info": {
   "codemirror_mode": {
    "name": "ipython",
    "version": 3
   },
   "file_extension": ".py",
   "mimetype": "text/x-python",
   "name": "python",
   "nbconvert_exporter": "python",
   "pygments_lexer": "ipython3",
   "version": "3.12.1"
  },
  "orig_nbformat": 4
 },
 "nbformat": 4,
 "nbformat_minor": 2
}
