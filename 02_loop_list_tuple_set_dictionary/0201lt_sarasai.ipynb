{
 "cells": [
  {
   "cell_type": "markdown",
   "metadata": {},
   "source": [
    "# Sąrašas(List)\n",
    "### Kas yra Sąrašas?\n",
    "`Sąrašas` „Python“ yra kaip konteineris, kuriame galite sudėti daugelį dalykų (elementų) į vieną vietą. Jį galite įsivaizduoti kaip apsipirkimo maišą, kuriame galima laikyti įvairių rūšių vaisius.\n",
    "\n",
    "### Kodėl naudojame sąrašus?\n",
    "- Mes naudojame sąrašus, kai norime laikyti kartu kelis dalykus.\n",
    "- „Python“ kalboje tai galima padaryti keturiais pagrindiniais būdais: Sąrašai, Tuple'ai, Aibės ir Žodynas.\n",
    "- Kiekvienas iš jų turi savo būdą laikyti dalykus.\n",
    "\n",
    "**Pavyzdys**:\n",
    "\n",
    "Įsivaizduokite, kad norite turėti sąrašą vaisių. „Python“ sąrašą galite naudoti tam, pavyzdžiui:"
   ]
  },
  {
   "cell_type": "code",
   "execution_count": 1,
   "metadata": {},
   "outputs": [
    {
     "name": "stdout",
     "output_type": "stream",
     "text": [
      "['obuolys', 'bananas', 'vyšnia']\n"
     ]
    }
   ],
   "source": [
    "fruits = [\"obuolys\", \"bananas\", \"vyšnia\"]\n",
    "print(fruits)"
   ]
  },
  {
   "cell_type": "markdown",
   "metadata": {},
   "source": [
    "- Dabar vaisiai yra kaip jūsų krepšys ir jis laiko šiuos tris vaisius: obuolį, bananą ir vyšnias. Trumpai tariant, sąrašas yra kaip konteineris, kuriame galite laikyti daug dalykų kartu, ir tai yra vienas iš keturių pagrindinių būdų tai daryti „Python“ kalboje."
   ]
  },
  {
   "cell_type": "markdown",
   "metadata": {},
   "source": [
    "## Sąrašų Kūrimas\n",
    "\n",
    "„Python“ kalboje galite kurti sąrašus naudodami laužtinius skliaustus \"`[]`\". \n",
    "- Sąrašai yra kaip konteineriai, kuriuose dedate dalykus. \n",
    "- Dalykus sąraše atskiriate kableliais.\n",
    "\n",
    "**Pavyzdžiai**:"
   ]
  },
  {
   "cell_type": "code",
   "execution_count": 2,
   "metadata": {},
   "outputs": [
    {
     "name": "stdout",
     "output_type": "stream",
     "text": [
      "[]\n"
     ]
    }
   ],
   "source": [
    "#Tuščias sąrašas:\n",
    "tuscias_sarasas = []\n",
    "print(tuscias_sarasas)"
   ]
  },
  {
   "cell_type": "code",
   "execution_count": null,
   "metadata": {},
   "outputs": [],
   "source": [
    "#Skaičių sąrašas:\n",
    "skaiciu_sarasas = [1, 2, 3, 4, 5]\n",
    "print(skaiciu_sarasas)"
   ]
  },
  {
   "cell_type": "code",
   "execution_count": null,
   "metadata": {},
   "outputs": [],
   "source": [
    "#Žodžių sąrašas:\n",
    "zodziu_sarasas = ['obuolys', 'kriaušė', 'bananas']\n",
    "print(zodziu_sarasas)"
   ]
  },
  {
   "cell_type": "code",
   "execution_count": null,
   "metadata": {},
   "outputs": [],
   "source": [
    "#Sąrašas su skirtingais dalykais:\n",
    "ivairus_sarasas = ['obuolys', 2, 1.4, 'kriaušė', True, 'bananas']\n",
    "print(ivairus_sarasas)"
   ]
  },
  {
   "cell_type": "code",
   "execution_count": 5,
   "metadata": {},
   "outputs": [
    {
     "name": "stdout",
     "output_type": "stream",
     "text": [
      "[1, 2, 3, 4, 5]\n"
     ]
    }
   ],
   "source": [
    "#Taip pat galite kurti sąrašą naudodami funkciją list():\n",
    "numbers = list([1, 2, 3, 4, 5])\n",
    "print(numbers)"
   ]
  },
  {
   "cell_type": "markdown",
   "metadata": {},
   "source": [
    "Daugiau galimybių: `list()` gali priimti įvairias iteruojamas struktūras arba konvertuoti kitus duomenų tipus į sąrašus."
   ]
  },
  {
   "cell_type": "code",
   "execution_count": 4,
   "metadata": {},
   "outputs": [
    {
     "name": "stdout",
     "output_type": "stream",
     "text": [
      "['h', 'e', 'l', 'l', 'o']\n"
     ]
    }
   ],
   "source": [
    "string_as_list = list(\"hello\")  # Konvertuoja string'ą į sąrašą simbolių\n",
    "print(string_as_list)"
   ]
  },
  {
   "cell_type": "code",
   "execution_count": 3,
   "metadata": {},
   "outputs": [
    {
     "name": "stdout",
     "output_type": "stream",
     "text": [
      "[0, 1, 2, 3, 4]\n"
     ]
    }
   ],
   "source": [
    "range_as_list = list(range(5))   # Konvertuoja diapazoną į sąrašą\n",
    "print(range_as_list)"
   ]
  },
  {
   "cell_type": "markdown",
   "metadata": {},
   "source": [
    "Trumpai tariant, sąrašas „Python“ kalboje veikia kaip konteineris, kuriame galite saugoti įvairius elementus. Sąrašą sukuriate naudodami laužtinius skliaustus, o į jį galite įdėti skirtingus dalykus."
   ]
  },
  {
   "cell_type": "markdown",
   "metadata": {},
   "source": [
    "# `Greita Užduotis 1: Sukurkite Sąrašą`\n",
    "\n",
    "**Instrukcijos**:\n",
    "1. Sukurkite `sąrašą`, kuriame yra bent penkių jūsų mėgstamiausių maisto pavadinimų.\n",
    "1. Atspausdinkite visą sąrašą."
   ]
  },
  {
   "cell_type": "code",
   "execution_count": 3,
   "metadata": {},
   "outputs": [
    {
     "name": "stdout",
     "output_type": "stream",
     "text": [
      "['Pica', 'Kebabas', 'Lasagna', 'Vistiena', 'Plovas']\n",
      "[1, 2, 3, 4, 5]\n",
      "[0, 1, 2, 3, 4, 5, 6, 7, 8, 9, 10, 11, 12, 13, 14, 15, 16, 17, 18, 19]\n",
      "['M', 'y', ' ', 'N', 'a', 'm', 'e']\n"
     ]
    }
   ],
   "source": [
    "geras = ['Pica', 'Kebabas', 'Lasagna', 'Vistiena', 'Plovas']\n",
    "print(geras)\n",
    "\n",
    "du = list([1, 2, 3, 4, 5])\n",
    "print(du)\n",
    "\n",
    "three = list(range(20))\n",
    "print(three)\n",
    "\n",
    "four = list(\"My Name\")\n",
    "print(four)"
   ]
  },
  {
   "cell_type": "markdown",
   "metadata": {},
   "source": [
    "# Sąrašų Indeksavimas\n",
    "\n",
    "- „Python“ kalboje sąrašai veikia kaip numeruotos dėžės, ir skaičiuoti pradedame nuo nulio.\n",
    "- Norėdami gauti kažką iš sąrašo, naudojame dėžės numerį, vadinamą indeksu, viduje laužtinių skliaustų `[]`.\n",
    "\n",
    "**Pavyzdžiai**: \n",
    "\n",
    "Tarkime, turime vaisių sąrašą tokiu būdu:"
   ]
  },
  {
   "cell_type": "code",
   "execution_count": 5,
   "metadata": {},
   "outputs": [
    {
     "name": "stdout",
     "output_type": "stream",
     "text": [
      "obuolys\n",
      "kriaušė\n",
      "bananas\n"
     ]
    }
   ],
   "source": [
    "fruits = ['obuolys', 'kriaušė', 'bananas']\n",
    "\n",
    "# Jeigu norime gauti pirmą vaisių, kuris yra 'obuolys', naudojame indeksą 0, nes tai pirmoji dėžė:\n",
    "print(fruits[0])  # Šis komentaras atspausdins 'obuolys'\n",
    "\n",
    "# Jeigu norime antrą vaisių, 'kriaušę', naudojame indeksą 1, nes tai antroji dėžė:\n",
    "print(fruits[1])  # Šis komentaras atspausdins 'kriaušė'\n",
    "\n",
    "# Trečią vaisių, 'bananas', gauname naudodami indeksą 2, nes tai yra trečioji dėžė:\n",
    "print(fruits[2])  # Šis komentaras atspausdins 'bananas'"
   ]
  },
  {
   "cell_type": "markdown",
   "metadata": {},
   "source": [
    "Taip pat galite skaičiuoti nuo sąrašo galo, naudodami neigiamus indeksus. Taigi, norėdami gauti paskutinį vaisių, kuris yra 'bananas', galite naudoti -1, nes tai yra paskutinė dėžė:"
   ]
  },
  {
   "cell_type": "code",
   "execution_count": 6,
   "metadata": {},
   "outputs": [
    {
     "name": "stdout",
     "output_type": "stream",
     "text": [
      "bananas\n",
      "kriaušė\n",
      "obuolys\n"
     ]
    }
   ],
   "source": [
    "print(fruits[-1])  # Šis komentaras atspausdins 'bananas'\n",
    "\n",
    "# Antro paskutinio vaisiaus, 'kriaušės', atveju naudojame -2, nes tai yra antroji paskutinė dėžė:\n",
    "print(fruits[-2])  # Šis komentaras atspausdins 'kriaušė'\n",
    "\n",
    "# O pirmo vaisiaus, 'obuolio', atveju naudojame -3, nes tai yra trečioji paskutinė dėžė:\n",
    "print(fruits[-3])  # Šis komentaras atspausdins 'obuolys'"
   ]
  },
  {
   "cell_type": "markdown",
   "metadata": {},
   "source": [
    "Prisiminkite, kad naudojant `neigiamus indeksus`, -1 visada rodo į paskutinį sąrašo elementą."
   ]
  },
  {
   "cell_type": "markdown",
   "metadata": {},
   "source": [
    "# `Greita Užduotis 2: Vaisių Indeksavimas`\n",
    "\n",
    "**Instrukcijos:**\n",
    "1. Sukurkite „Python“ sąrašą pavadinimu `vaisiai`, kuriame būtų bent penki skirtingi vaisių pavadinimai.\n",
    "2. Atspausdinkite `antrą vaisių` sąraše, naudodami indeksavimą.\n",
    "3. Atspausdinkite `paskutinį vaisių` sąraše, naudodami `neigiamą` indeksavimą.\n",
    "4. Atspausdinkite `trečią ir ketvirtą` vaisius sąraše, naudodami `teigiamą` indeksavimą.\n",
    "\n",
    "**Patarimai:**\n",
    "- Naudokite laužtinius skliaustus ir indeksus, kad pasiektumėte sąrašo elementus.\n",
    "- Prisiminkite, kad indeksavimas prasideda nuo nulio, o neigiamas indeksavimas skaičiuoja nuo sąrašo galo.\n"
   ]
  },
  {
   "cell_type": "code",
   "execution_count": 11,
   "metadata": {},
   "outputs": [
    {
     "name": "stdout",
     "output_type": "stream",
     "text": [
      "Banana\n",
      "Berry\n",
      "Orange Mandarinn\n"
     ]
    }
   ],
   "source": [
    "fruits = ['Apple', 'Banana', 'Orange', 'Mandarinn', 'Berry']\n",
    "print(fruits[1])\n",
    "print(fruits[-1])\n",
    "print(fruits[2], fruits[3])"
   ]
  },
  {
   "cell_type": "markdown",
   "metadata": {},
   "source": [
    "# Sąrašų Iškarpymas\n",
    "\n",
    "- „Python“ kalboje galite iškirpti arba iškarpyti sąrašą, norėdami gauti tik jo dalį. \n",
    "- Tam naudojamas simbolis \"`:`\" \n",
    "- Laužtiniuose skliaustuose galite nurodyti pradinį ir galinį indeksus.\n",
    "\n",
    "**Pavyzdžiai:**"
   ]
  },
  {
   "cell_type": "code",
   "execution_count": null,
   "metadata": {},
   "outputs": [],
   "source": [
    "# 1. Jei turite tokį vaisių sąrašą:\n",
    "fruits = ['obuolys', 'kriaušė', 'bananas', 'apelsinas', 'lotosas']\n",
    "\n",
    "# Norėdami gauti pirmuosius tris vaisius, galite naudoti iškarpymą taip:\n",
    "print(fruits[:3])  # Tai atspausdins ['obuolys', 'kriaušė', 'bananas']\n",
    "\n",
    "# 2. Norint gauti vaisius nuo trečio iki galo, galite naudoti tai:\n",
    "print(fruits[2:])  # Tai atspausdins ['bananas', 'apelsinas', 'lotosas']\n",
    "\n",
    "# 3. Jei norite antrą, trečią ir ketvirtą vaisius, galite nurodyti tiek pradinį, tiek galinį indeksus taip:\n",
    "print(fruits[1:4])  # Tai atspausdins ['kriaušė', 'bananas', 'apelsinas']\n",
    "\n",
    "# 4. Taip pat galite naudoti neigiamus indeksus, kad pradėtumėte skaičiavimą nuo galo. \n",
    "# Pavyzdžiui, norėdami gauti paskutinius tris vaisius:\n",
    "print(fruits[-3:])  # Tai atspausdins ['bananas', 'apelsinas', 'lotosas']"
   ]
  },
  {
   "cell_type": "markdown",
   "metadata": {},
   "source": [
    "Taip pat galite nurodyti trečiąjį argumentą, vadinamą žingsniu. Jis nurodo, kiek elementų „Python“ kalboje praleisti tarp pasirinktų elementų."
   ]
  },
  {
   "cell_type": "code",
   "execution_count": 15,
   "metadata": {},
   "outputs": [
    {
     "name": "stdout",
     "output_type": "stream",
     "text": [
      "['obuolys', 'bananas', 'lotosas']\n",
      "['lotosas', 'bananas', 'obuolys']\n",
      "['bananas', 'kriaušė', 'obuolys']\n"
     ]
    }
   ],
   "source": [
    "fruits = ['obuolys', 'kriaušė', 'bananas', 'apelsinas', 'lotosas']\n",
    "\n",
    "# Šiuo atveju žingsnio dydis yra 2, todėl praleidžia kiekvieną antrą elementą, pradedant nuo pradinio indekso:\n",
    "print(fruits[::2])  # Tai atspausdins ['obuolys', 'bananas', 'lotosas']\n",
    "print(fruits[::-2])\n",
    "\n",
    "print(fruits[2::-1])"
   ]
  },
  {
   "cell_type": "markdown",
   "metadata": {},
   "source": [
    "- Taigi, naudojant iškarpymą „Python“ kalboje, galite gauti tik tam tikrą sąrašo dalį, nurodydami pradžios, pabaigos ir žingsnio indeksus. Galima tai lyginti su pyrago supjaustymu į skiltelės, kur tiksliai nurodote, kurią dalį norite pasiimti!"
   ]
  },
  {
   "cell_type": "markdown",
   "metadata": {},
   "source": [
    "# Sąrašo elementų keitimas\n",
    "\n",
    "„Python“ kalboje galite pakeisti sąrašo elementus priskirdami naują reikšmę tam tikram indeksui. Pažiūrėkime į keletą pavyzdžių:\n",
    "\n",
    "**Pavyzdys 1:**\n",
    "\n",
    "Tarkime, turite vaisių sąrašą šiuo būdu:"
   ]
  },
  {
   "cell_type": "code",
   "execution_count": null,
   "metadata": {},
   "outputs": [],
   "source": [
    "fruits = ['obuolys', 'kriaušė', 'bananas']"
   ]
  },
  {
   "cell_type": "markdown",
   "metadata": {},
   "source": [
    "Jei norite pakeisti antrą vaisių, '`kriaušę`', į '`avokadą`', galite tai padaryti taip:"
   ]
  },
  {
   "cell_type": "code",
   "execution_count": null,
   "metadata": {},
   "outputs": [],
   "source": [
    "fruits[1] = 'avokadas'\n",
    "print(fruits)  # Tai atspausdins ['obuolys', 'avokadas', 'bananas']\n"
   ]
  },
  {
   "cell_type": "markdown",
   "metadata": {},
   "source": [
    "Paprastai naudojate indeksą [1], kad pasiektumėte antrą elementą, ir priskiriate jam naują reikšmę 'avokadas'.\n",
    "\n",
    "**Pavyzdys 2**: \n",
    "\n",
    "Galite keisti daugiau nei vieną elementą vienu metu, naudodami iškarpymą. \n",
    "\n",
    "Pavyzdžiui, apsvarstykite šį vaisių sąrašą:"
   ]
  },
  {
   "cell_type": "code",
   "execution_count": 16,
   "metadata": {},
   "outputs": [],
   "source": [
    "fruits = ['obuolys', 'kriaušė', 'bananas', 'apelsinas', 'lotosas']"
   ]
  },
  {
   "cell_type": "markdown",
   "metadata": {},
   "source": [
    "Jei norite pakeisti '`kriaušę`', '`bananą`' ir '`apelsiną`' į '`ananasą`' ir '`mangą`', \n",
    "\n",
    "galite tai padaryti taip:"
   ]
  },
  {
   "cell_type": "code",
   "execution_count": 17,
   "metadata": {},
   "outputs": [
    {
     "name": "stdout",
     "output_type": "stream",
     "text": [
      "['obuolys', 'ananasas', 'mangas', 'lotosas']\n"
     ]
    }
   ],
   "source": [
    "fruits[1:4] = ['ananasas', 'mangas']\n",
    "print(fruits)  # Tai atspausdins ['obuolys', 'ananasas', 'mangas', 'lotosas']\n"
   ]
  },
  {
   "cell_type": "code",
   "execution_count": 18,
   "metadata": {},
   "outputs": [
    {
     "data": {
      "text/plain": [
       "['obuolys', 'ananasas', 'mangas', 'lotosas', 'boom']"
      ]
     },
     "execution_count": 18,
     "metadata": {},
     "output_type": "execute_result"
    }
   ],
   "source": [
    "fruits += ['boom']\n",
    "fruits"
   ]
  },
  {
   "cell_type": "markdown",
   "metadata": {},
   "source": [
    "- Šiuo atveju naudojamas iškarpymas `[1:4]`, kad būtų pasirinkti keičiami elementai, ir tai iškarpai priskiriame naują sąrašą `['ananasas', 'mangas']`. \n",
    "- Taigi, sąrašo elementų keitimas „Python“ kalboje yra tiek paprastas, kiek prieigą prie elemento, kurį norite pakeisti pagal jo indeksą, ir jam priskirti naują reikšmę. \n",
    "- Taip pat galite pakeisti kelis elementus vienu metu, naudodami iškarpymą."
   ]
  },
  {
   "cell_type": "markdown",
   "metadata": {},
   "source": [
    "# `Greita Užduotis 3: Sąrašų Iškarpymas ir Keitimas`\n",
    "\n",
    "**Instrukcijos:**\n",
    "\n",
    "1. Atspausdinkite sąrašo pirmuosius tris elementus.\n",
    "2. Atspausdinkite sąrašo paskutinius du elementus.\n",
    "3. Atspausdinkite tris elementus iš sąrašo vidurio.\n",
    "4. Atspausdinkite kiekvieną antrą sąrašo elementą.\n",
    "\n",
    "**Patarimai:**\n",
    "\n",
    "- Norėdami atspausdinti pirmuosius tris elementus, galite naudoti sąrašo iškarpymą su [:3].\n",
    "- Paskutiniams dviejams elementams galite naudoti neigiamus indeksus, kaip antrokiams [-2:].\n",
    "- Norėdami atspausdinti tris elementus iš vidurio, raskite vidurinį indeksą ir naudokite iškarpymą.\n",
    "- Kiekvieną antrą elementą galite atspausdinti naudodami iškarpymą [::2]."
   ]
  },
  {
   "cell_type": "code",
   "execution_count": 23,
   "metadata": {},
   "outputs": [
    {
     "name": "stdout",
     "output_type": "stream",
     "text": [
      "['obuolys', 'kriaušė', 'bananas']\n",
      "['obuolys', 'kriaušė', 'bananas']\n",
      "['kriaušė', 'bananas', 'apelsinas']\n",
      "['obuolys', 'bananas', 'lotosas']\n"
     ]
    }
   ],
   "source": [
    "# Vaisių sąrašas\n",
    "fruits = ['obuolys', 'kriaušė', 'bananas', 'apelsinas', 'lotosas']\n",
    "\n",
    "print(fruits[:3])\n",
    "print(fruits[:-2])\n",
    "print(fruits[1:4])\n",
    "print(fruits[::2])"
   ]
  },
  {
   "cell_type": "markdown",
   "metadata": {},
   "source": [
    "# Sąrašo metodai Python kalboje\n",
    "\n",
    "1. `append()`\n",
    "- Metodas `append()` naudojamas norint pridėti elementą sąrašo pabaigoje. Tai paprastas būdas išplėsti sąrašą vienu elementu."
   ]
  },
  {
   "cell_type": "code",
   "execution_count": null,
   "metadata": {},
   "outputs": [],
   "source": [
    "my_list = [1, 2, 3]\n",
    "my_list.append(4)\n",
    "# Dabar my_list yra [1, 2, 3, 4]"
   ]
  },
  {
   "cell_type": "code",
   "execution_count": 27,
   "metadata": {},
   "outputs": [
    {
     "name": "stdout",
     "output_type": "stream",
     "text": [
      "[4, 5, 6, 7]\n"
     ]
    }
   ],
   "source": [
    "list = [4, 5, 6]\n",
    "list.append(7)\n",
    "print(list)"
   ]
  },
  {
   "cell_type": "markdown",
   "metadata": {},
   "source": [
    "2. `extend()`\n",
    "- Metodas `extend()` naudojamas pridėti elementus iš iteruojamojo objekto (dažniausiai kito sąrašo) į esamą sąrašą gale."
   ]
  },
  {
   "cell_type": "code",
   "execution_count": null,
   "metadata": {},
   "outputs": [],
   "source": [
    "my_list = [1, 2, 3]\n",
    "another_list = [4, 5, 6]\n",
    "my_list.extend(another_list)\n",
    "# Dabar my_list yra [1, 2, 3, 4, 5, 6]"
   ]
  },
  {
   "cell_type": "code",
   "execution_count": 28,
   "metadata": {},
   "outputs": [
    {
     "name": "stdout",
     "output_type": "stream",
     "text": [
      "[1, 2, 3, 4, 5, 6]\n"
     ]
    }
   ],
   "source": [
    "list = [1, 2 ,3]\n",
    "list_two = [4, 5, 6]\n",
    "list.extend(list_two)\n",
    "print(list)"
   ]
  },
  {
   "cell_type": "markdown",
   "metadata": {},
   "source": [
    "3. `insert()`\n",
    "- Metodas `insert()` leidžia įterpti elementą į konkretų sąrašo indeksą."
   ]
  },
  {
   "cell_type": "code",
   "execution_count": null,
   "metadata": {},
   "outputs": [],
   "source": [
    "my_list = [1, 2, 3]\n",
    "my_list.insert(1, 4)  # Įterpti 4 į indeksą 1\n",
    "# Dabar my_list yra [1, 4, 2, 3]"
   ]
  },
  {
   "cell_type": "code",
   "execution_count": 32,
   "metadata": {},
   "outputs": [],
   "source": [
    "list = [4, 5, 6]\n",
    "list.insert(0, 3)\n",
    "print(list)"
   ]
  },
  {
   "cell_type": "markdown",
   "metadata": {},
   "source": [
    "4. `remove()`\n",
    "- Metodas `remove()` naudojamas pašalinti pirmąjį konkretaus elemento sąraše pasirodymą."
   ]
  },
  {
   "cell_type": "code",
   "execution_count": null,
   "metadata": {},
   "outputs": [],
   "source": [
    "my_list = [1, 2, 3, 2]\n",
    "my_list.remove(2)  # Pašalina pirmąjį 2 pasirodymą\n",
    "# Dabar my_list yra [1, 3, 2]"
   ]
  },
  {
   "cell_type": "code",
   "execution_count": 1,
   "metadata": {},
   "outputs": [
    {
     "name": "stdout",
     "output_type": "stream",
     "text": [
      "[1, 3, 4]\n"
     ]
    }
   ],
   "source": [
    "list = [1, 2, 3, 4]\n",
    "list.remove(2)\n",
    "print(list)"
   ]
  },
  {
   "cell_type": "markdown",
   "metadata": {},
   "source": [
    "5. `pop()`\n",
    "- Metodas `pop()` naudojamas pašalinti ir grąžinti elementą iš konkretaus sąrašo indekso.\n",
    "- Jei indeksas nėra nurodytas, šis metodas pašalins ir grąžins paskutinį sąrašo elementą."
   ]
  },
  {
   "cell_type": "code",
   "execution_count": 5,
   "metadata": {},
   "outputs": [
    {
     "name": "stdout",
     "output_type": "stream",
     "text": [
      "2\n",
      "[1, 3]\n",
      "[1, 2, 3]\n",
      "3\n"
     ]
    }
   ],
   "source": [
    "my_list = [1, 2, 3]\n",
    "popped_element = my_list.pop(1)  # Pašalina ir grąžina elementą su indeksu 1 (2)\n",
    "# Dabar my_list yra [1, 3], ir popped_element yra 2\n",
    "print(popped_element)\n",
    "print(my_list)\n",
    "\n",
    "list = [1, 2, 3]\n",
    "print(list)\n",
    "list_t = list.pop(2)\n",
    "print(list_t)"
   ]
  },
  {
   "cell_type": "markdown",
   "metadata": {},
   "source": [
    "6. `index()`\n",
    "- Metodas `index()` grąžina pirmo konkretaus elemento indeksą sąraše."
   ]
  },
  {
   "cell_type": "code",
   "execution_count": 10,
   "metadata": {},
   "outputs": [
    {
     "name": "stdout",
     "output_type": "stream",
     "text": [
      "1\n",
      "3\n",
      "From list [1, 2, 3] we take out 2\n"
     ]
    }
   ],
   "source": [
    "my_list = [1, 2, 3, 2]\n",
    "index_of_2 = my_list.index(2)  # Randamas pirmojo 2 pasirodymo indeksas\n",
    "# index_of_2 yra 1\n",
    "print(index_of_2)\n",
    "another_io2 = my_list.index(2, index_of_2+1)\n",
    "print(another_io2)\n",
    "\n",
    "antras_2 = my_list.pop(another_io2)\n",
    "print(f\"From list {my_list} we take out {antras_2}\")"
   ]
  },
  {
   "cell_type": "markdown",
   "metadata": {},
   "source": [
    "7. `count()`\n",
    "- Metodas `count()` naudojamas suskaičiuoti konkretaus elemento pasirodymus sąraše."
   ]
  },
  {
   "cell_type": "code",
   "execution_count": 17,
   "metadata": {},
   "outputs": [
    {
     "name": "stdout",
     "output_type": "stream",
     "text": [
      "2 2s in [1, 2, 3, 2]\n"
     ]
    }
   ],
   "source": [
    "my_list = [1, 2, 3, 2]\n",
    "count_of_2 = my_list.count(2)  # Suskaičiuoja 2 pasirodymus\n",
    "# count_of_2 yra 2\n",
    "\n",
    "print(count_of_2, \"2s in\", my_list)"
   ]
  },
  {
   "cell_type": "markdown",
   "metadata": {},
   "source": [
    "8. `sort()`\n",
    "- Metodas `sort()` surūšiuoja sąrašą didėjimo tvarka. \n",
    "- Taip pat galite nurodyti papildomus argumentus, norėdami pritaikyti rūšiavimo elgesį."
   ]
  },
  {
   "cell_type": "code",
   "execution_count": 19,
   "metadata": {},
   "outputs": [
    {
     "name": "stdout",
     "output_type": "stream",
     "text": [
      "[1, 1, 2, 3, 4, 5, 9]\n",
      "[1, 2, 2, 4, 4, 5, 6, 6, 12]\n"
     ]
    }
   ],
   "source": [
    "my_list = [3, 1, 4, 1, 5, 9, 2]\n",
    "my_list.sort()\n",
    "# Dabar my_list yra [1, 1, 2, 3, 4, 5, 9]\n",
    "print(my_list)\n",
    "\n",
    "list = [5, 2, 12, 6, 4, 1, 2, 4, 6]\n",
    "list.sort()\n",
    "print(list)"
   ]
  },
  {
   "cell_type": "markdown",
   "metadata": {},
   "source": [
    "9. `reverse()`\n",
    "- Metodas `reverse()` apverčia sąrašo elementus vietoje."
   ]
  },
  {
   "cell_type": "code",
   "execution_count": 22,
   "metadata": {},
   "outputs": [
    {
     "name": "stdout",
     "output_type": "stream",
     "text": [
      "[4, 3, 2, 1]\n",
      "[7, 5, 4, 2, 5, 9, 3, 2, 1]\n",
      "[9, 7, 5, 5, 4, 3, 2, 2, 1]\n"
     ]
    }
   ],
   "source": [
    "my_list = [1, 2, 3, 4]\n",
    "my_list.reverse()\n",
    "# Dabar my_list yra [4, 3, 2, 1]\n",
    "print(my_list)\n",
    "\n",
    "list = [1, 2, 3, 9, 5, 2, 4, 5, 7]\n",
    "list.reverse()\n",
    "print(list)\n",
    "\n",
    "list.sort()\n",
    "list.reverse()\n",
    "print(list)"
   ]
  },
  {
   "cell_type": "markdown",
   "metadata": {},
   "source": [
    "10. `copy()`\n",
    "- Metodas `copy()` sukuria sąrašo paviršinį kopiją. \n",
    "- Pakeitimai originaliame sąraše neturės įtakos nukopijuotam sąrašui, ir atvirkščiai."
   ]
  },
  {
   "cell_type": "code",
   "execution_count": 25,
   "metadata": {},
   "outputs": [
    {
     "name": "stdout",
     "output_type": "stream",
     "text": [
      "[1, 2, 3]\n",
      "['Apple', 'Peach', 'Orange']\n"
     ]
    }
   ],
   "source": [
    "list = [1, 2, 3]\n",
    "copied_list = list.copy()\n",
    "print(copied_list)\n",
    "\n",
    "fruits = ['Apple', 'Banana', 'Orange']\n",
    "old_fruits = fruits\n",
    "old_fruits[1] = \"Peach\"\n",
    "print(fruits)"
   ]
  },
  {
   "cell_type": "markdown",
   "metadata": {},
   "source": [
    "Šie yra esminiai sąrašų metodai Python kalboje, suteikiantys jums galingus įrankius efektyviam sąrašų manipuliavimui. Šių metodų įsisavinimas yra būtinas efektyviam sąrašų manipuliavimui jūsų Python programose."
   ]
  },
  {
   "cell_type": "markdown",
   "metadata": {},
   "source": [
    "# `Greita Užduotis 4`:\n",
    "**Instrukcijos:** \n",
    "\n",
    "Atlikite žemiau nurodytus veiksmus su duotu sąrašu, o po kiekvieno veiksmo atspausdinkite sąrašą:\n",
    "\n",
    "1. Pridėkite dar vieną mėgstamo maisto pavadinimą į sąrašo galą.\n",
    "2. Įterpkite naują maisto elementą į sąrašo ketvirtąją poziciją.\n",
    "3. Pakeiskite sąrašo antrąjį elementą kita mėgstamo maisto pavadinimu.\n",
    "4. Pašalinkite sąrašo pirmąjį elementą.\n",
    "5. Pašalinkite sąrašo trečiąjį elementą.\n",
    "6. Atraskite bet kurio elemento indeksą sąraše.\n",
    "7. Atspausdinkite sąrašą atvirkštine tvarka.\n",
    "8. Pasirinktinai išbandykite ir kitus metodus."
   ]
  },
  {
   "cell_type": "code",
   "execution_count": 27,
   "metadata": {},
   "outputs": [
    {
     "name": "stdout",
     "output_type": "stream",
     "text": [
      "['pica', 'sushi', 'burgeris', 'pasta', 'ledai', 'peach']\n"
     ]
    }
   ],
   "source": [
    "# Duotas mėgstamų maisto pavadinimų sąrašas\n",
    "favorite_foods = ['pica', 'sushi', 'burgeris', 'pasta', 'ledai']\n",
    "food = \"peach\"\n",
    "favorite_foods.append(food)\n",
    "print(favorite_foods)\n",
    "# Jūsų kodas čia"
   ]
  },
  {
   "cell_type": "code",
   "execution_count": 29,
   "metadata": {},
   "outputs": [
    {
     "name": "stdout",
     "output_type": "stream",
     "text": [
      "['pica', 'sushi', 'burgeris', 'peach', 'pasta', 'ledai']\n"
     ]
    }
   ],
   "source": [
    "favorite_foods = ['pica', 'sushi', 'burgeris', 'pasta', 'ledai']\n",
    "food = \"peach\"\n",
    "favorite_foods.insert(3, food)\n",
    "print(favorite_foods)"
   ]
  },
  {
   "cell_type": "code",
   "execution_count": 30,
   "metadata": {},
   "outputs": [
    {
     "name": "stdout",
     "output_type": "stream",
     "text": [
      "['pica', 'Peach', 'burgeris', 'pasta', 'ledai']\n"
     ]
    }
   ],
   "source": [
    "favorite_foods = ['pica', 'sushi', 'burgeris', 'pasta', 'ledai']\n",
    "fruits = favorite_foods\n",
    "fruits[1] = \"Peach\"\n",
    "print(fruits)"
   ]
  },
  {
   "cell_type": "code",
   "execution_count": 34,
   "metadata": {},
   "outputs": [
    {
     "name": "stdout",
     "output_type": "stream",
     "text": [
      "['sushi', 'burgeris', 'pasta', 'ledai']\n"
     ]
    }
   ],
   "source": [
    "favorite_foods = ['pica', 'sushi', 'burgeris', 'pasta', 'ledai']\n",
    "favorite_foods.remove('pica')\n",
    "print(favorite_foods)"
   ]
  },
  {
   "cell_type": "code",
   "execution_count": 35,
   "metadata": {},
   "outputs": [
    {
     "name": "stdout",
     "output_type": "stream",
     "text": [
      "['pica', 'burgeris', 'pasta', 'ledai']\n"
     ]
    }
   ],
   "source": [
    "favorite_foods = ['pica', 'sushi', 'burgeris', 'pasta', 'ledai']\n",
    "favorite_foods.remove('sushi')\n",
    "print(favorite_foods)"
   ]
  },
  {
   "cell_type": "code",
   "execution_count": 49,
   "metadata": {},
   "outputs": [
    {
     "name": "stdout",
     "output_type": "stream",
     "text": [
      "0\n"
     ]
    }
   ],
   "source": [
    "snacks = ['pizza', 'kebab', 'monster']\n",
    "list = snacks.index('pizza')\n",
    "print(list)"
   ]
  },
  {
   "cell_type": "code",
   "execution_count": 50,
   "metadata": {},
   "outputs": [
    {
     "name": "stdout",
     "output_type": "stream",
     "text": [
      "['chicken', 'kebab', 'pizza']\n"
     ]
    }
   ],
   "source": [
    "list = ['pizza', 'kebab', 'chicken']\n",
    "list.reverse()\n",
    "print(list)"
   ]
  },
  {
   "cell_type": "code",
   "execution_count": 74,
   "metadata": {},
   "outputs": [
    {
     "name": "stdout",
     "output_type": "stream",
     "text": [
      "[0, 2, 4, 5, 6, 8, 9, 10, 11, 19, 27, 42, 85, 123, 913]\n",
      "[913, 123, 85, 42, 27, 19, 11, 10, 9, 8, 6, 5, 4, 2, 0]\n",
      "There's only 1, 4 in our list.\n",
      "There's now 5 amount of 4's in our list.\n"
     ]
    }
   ],
   "source": [
    "list = [2, 4, 6, 9, 123, 85, 913, 0, 19, 42, 27, 8, 5, 10, 11]\n",
    "list.sort()\n",
    "print(list)\n",
    "\n",
    "list.reverse()\n",
    "print(list)\n",
    "\n",
    "new_list = list.count(4)\n",
    "print(f\"There's only {new_list}, 4 in our list.\")\n",
    "\n",
    "# lister = [2, 4, 6, 9, 123, 85, 913, 0, 19, 42, 27, 8, 5, 10, 11]\n",
    "# newnew_list = [4, 4, 4, 4]\n",
    "# lister.extend(newnew_list)\n",
    "# lister.sort()\n",
    "# print(f\"There's now {lister} amount of 4's in our list.\")\n",
    "# ------ Failed code ^ ------ :')\n",
    "\n",
    "list = [2, 4, 6, 9, 123, 85, 913, 0, 19, 42, 27, 8, 5, 10, 11]\n",
    "extender = [4, 4, 4, 4]\n",
    "list.extend(extender)\n",
    "new_lister = list.count(4)\n",
    "print(f\"There's now {new_lister} amount of 4's in our list.\")\n"
   ]
  },
  {
   "cell_type": "markdown",
   "metadata": {},
   "source": [
    "## Funkcija len()\n",
    "Funkcija `len()` naudojama rasti elementų skaičių sąraše."
   ]
  },
  {
   "cell_type": "code",
   "execution_count": 77,
   "metadata": {},
   "outputs": [
    {
     "name": "stdout",
     "output_type": "stream",
     "text": [
      "5\n",
      "3\n"
     ]
    }
   ],
   "source": [
    "my_list = [1, 2, 3, 4, 5]\n",
    "length = len(my_list)  # Rasti elementų skaičių sąraše\n",
    "# ilgis_sarase yra 5\n",
    "print(length)\n",
    "\n",
    "list = [\"one\", \"two\", \"three\"]\n",
    "lenghts = len(list)\n",
    "print(lenghts)"
   ]
  },
  {
   "cell_type": "markdown",
   "metadata": {},
   "source": [
    "- Galite naudoti `len()` su bet kuriuo iteruojamu objektu, ne tik su sąrašais, norėdami nustatyti jų ilgį. \n",
    "- Ši funkcija ypač naudinga, kai reikia peržiūrėti sąrašą ar atlikti operacijas pagal jo ilgį."
   ]
  },
  {
   "cell_type": "markdown",
   "metadata": {},
   "source": [
    "# `Greita Užduotis 5:`\n",
    "**Instrukcijos:**\n",
    "\n",
    "1. Patikrinkite sąrašo ilgį.\n",
    "2. Atspausdinkite sąrašą"
   ]
  },
  {
   "cell_type": "code",
   "execution_count": 78,
   "metadata": {},
   "outputs": [
    {
     "name": "stdout",
     "output_type": "stream",
     "text": [
      "5\n"
     ]
    }
   ],
   "source": [
    "# Duotas vaisių sąrašas\n",
    "fruits = [\"obuolys\", \"bananas\", \"vyšnia\", \"datulė\", \"svarainis\"]\n",
    "\n",
    "length = len(fruits)\n",
    "print(length)\n",
    "# Jūsų kodas čia"
   ]
  },
  {
   "cell_type": "markdown",
   "metadata": {},
   "source": [
    "## `'in'` Raktazodis „Python“ kalboje\n",
    "\n",
    "Raktazodis `'in'` naudojamas tikrinti, ar nurodytas elementas yra esamas iteruojamojoje struktūroje, tokioje kaip sąrašas, tuple, aibė ar žodynas. \n",
    "- Grąžina `True`, jei elementas egzistuoja iteruojamojoje struktūroje, ir `False`, jei ne.\n"
   ]
  },
  {
   "cell_type": "code",
   "execution_count": 75,
   "metadata": {},
   "outputs": [
    {
     "name": "stdout",
     "output_type": "stream",
     "text": [
      "True\n",
      "False\n"
     ]
    }
   ],
   "source": [
    "my_list = [1, 2, 3, 4, 5]\n",
    "\n",
    "# Patikrinti, ar elementas yra sąraše\n",
    "rezultatas1 = 3 in my_list  # True\n",
    "rezultatas2 = 6 in my_list  # False\n",
    "\n",
    "print(rezultatas1)\n",
    "print(rezultatas2)"
   ]
  },
  {
   "cell_type": "code",
   "execution_count": 80,
   "metadata": {},
   "outputs": [
    {
     "name": "stdout",
     "output_type": "stream",
     "text": [
      "True False\n",
      "False True\n"
     ]
    }
   ],
   "source": [
    "list = ['fire', 'water', 'earth', 'air']\n",
    "\n",
    "result1 = 'fire' in list\n",
    "result2 = 'mud' in list\n",
    "\n",
    "print(result1, result2)\n",
    "\n",
    "result1 = 'fire' not in list\n",
    "result2 = 'mud' not in list\n",
    "\n",
    "print(result1, result2)"
   ]
  },
  {
   "cell_type": "markdown",
   "metadata": {},
   "source": [
    "- Šiame pavyzdyje `rezultatas1 yra True`, nes elementas 3 yra sąraše my_list, tuo tarpu `rezultatas2 yra False`, nes 6 nėra sąraše.\n",
    "\n",
    "Taip pat galite naudoti 'not in' raktazodį, kad patikrintumėte, ar elementas nėra iteruojamojoje struktūroje:"
   ]
  },
  {
   "cell_type": "code",
   "execution_count": null,
   "metadata": {},
   "outputs": [],
   "source": [
    "rezultatas3 = 3 not in my_list  # False (3 yra sąraše)\n",
    "rezultatas4 = 6 not in my_list  # True (6 nėra sąraše)\n",
    "\n",
    "print(rezultatas3)\n",
    "print(rezultatas4)"
   ]
  },
  {
   "cell_type": "markdown",
   "metadata": {},
   "source": [
    "- '`in`' ir '`not in`' operatoriai yra naudingi sąlyginai tikrinant, ar elementas yra kolekcijos dalis prieš atliekant tam tikras operacijas su juo.\n",
    "- Jie dažnai naudojami kontrolinėse struktūrose, pvz., if sąlygose ir cikluose, priimant sprendimus pagal konkretaus elemento buvimą ar nebuvimą iteruojamojoje struktūroje."
   ]
  },
  {
   "cell_type": "markdown",
   "metadata": {},
   "source": [
    "# `Greita Užduotis 6: Tikrinti Maisto Produktą`\n",
    "**Instrukcijos:**\n",
    "\n",
    "1. Pasirinkite maisto produktą, kurio nėra sąraše (pavyzdžiui, \"braškė\").\n",
    "2. Naudodami `in` operatorių, patikrinkite, ar pasirinktas maisto produktas yra sąraše.\n",
    "3. Atspausdinkite rezultatą (True, jei produktas yra sąraše, arba False, jei jo nėra).\n"
   ]
  },
  {
   "cell_type": "code",
   "execution_count": 83,
   "metadata": {},
   "outputs": [
    {
     "name": "stdout",
     "output_type": "stream",
     "text": [
      "False True True False\n"
     ]
    }
   ],
   "source": [
    "# Maisto produktų sąrašas\n",
    "food_products = [\"obuolys\", \"bananas\", \"vyšnia\", \"datulė\", \"juoduju serbentų uogienė\"]\n",
    "\n",
    "# Jūsų kodas čia\n",
    "\n",
    "check = 'braškė' in food_products\n",
    "check2 = 'obuolys' in food_products\n",
    "check3 = 'expired milk' not in food_products\n",
    "check4 = 'bananas' not in food_products\n",
    "check5 = 'bananas' not in food_products\n",
    "\n",
    "print(check, check2, check3, check4, check5)"
   ]
  }
 ],
 "metadata": {
  "kernelspec": {
   "display_name": "venv",
   "language": "python",
   "name": "python3"
  },
  "language_info": {
   "codemirror_mode": {
    "name": "ipython",
    "version": 3
   },
   "file_extension": ".py",
   "mimetype": "text/x-python",
   "name": "python",
   "nbconvert_exporter": "python",
   "pygments_lexer": "ipython3",
   "version": "3.12.1"
  }
 },
 "nbformat": 4,
 "nbformat_minor": 2
}
