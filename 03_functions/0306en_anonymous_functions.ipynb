{
 "cells": [
  {
   "cell_type": "markdown",
   "metadata": {},
   "source": [
    "# Anonymous Functions (Lambda Functions)"
   ]
  },
  {
   "cell_type": "markdown",
   "metadata": {},
   "source": [
    "Anonymous functions are functions that do not have names. They are defined using the `lambda` keyword and a list of arguments, where you can describe a specific piece of code. These functions are very useful when you need to create a simple function in one place that you will only use once.\n",
    "\n",
    "**Example 1: Simple Lambda Function**"
   ]
  },
  {
   "cell_type": "code",
   "execution_count": 1,
   "metadata": {},
   "outputs": [
    {
     "name": "stdout",
     "output_type": "stream",
     "text": [
      "5\n"
     ]
    }
   ],
   "source": [
    "add = lambda x, y: x + y\n",
    "\n",
    "print(add(2, 3))  # Outputs 5"
   ]
  },
  {
   "cell_type": "markdown",
   "metadata": {},
   "source": [
    "- In this example, an anonymous function called \"`add`\" is defined, which calculates the sum of two arguments. This function is defined using the `lambda` keyword, and its value is assigned to the variable \"add.\" Then, the function is called with arguments \"2\" and \"3,\" and the output is \"5.\"\n",
    "\n",
    "**Example 2: Using Lambda with map**"
   ]
  },
  {
   "cell_type": "code",
   "execution_count": 2,
   "metadata": {},
   "outputs": [
    {
     "name": "stdout",
     "output_type": "stream",
     "text": [
      "[1, 4, 9, 16, 25]\n"
     ]
    }
   ],
   "source": [
    "square_numbers = list(map(lambda x: x**2, [1, 2, 3, 4, 5]))\n",
    "print(square_numbers)  # Outputs [1, 4, 9, 16, 25]\n"
   ]
  },
  {
   "cell_type": "markdown",
   "metadata": {},
   "source": [
    "- In this example, an anonymous `lambda` function is used with the `map` function to calculate the square of each element in a list. This is a shorter and more convenient way than defining a separate function just for calculating the squares of numbers.\n",
    "\n",
    "The map function is an internal Python function used to create a new list from an existing list by applying a specific function or anonymous function to each of its elements. In this case, the lambda function `lambda x: x**2` squares each element in the list. For each list element, the `lambda` function assigns a value and passes it to the `map` function, which then creates a new list with modified elements. The list function converts the result of the map function into a list.\n",
    "\n",
    "The final output is a new list where each number from the original list is squared, resulting in [1, 4, 9, 16, 25]."
   ]
  },
  {
   "cell_type": "markdown",
   "metadata": {},
   "source": [
    "# `Quick assignment 1: Using Lambda with map`\n",
    "1. Create a list called numbers containing the integers from 1 to 10 (inclusive).\n",
    "1. Write a Python program that uses the map function along with a lambda function to calculate the cube of each number in the numbers list.\n",
    "1. Store the result in a new list called cubes.\n",
    "1. Finally, print the cubes list to display the cubes of the numbers."
   ]
  },
  {
   "cell_type": "code",
   "execution_count": 3,
   "metadata": {},
   "outputs": [
    {
     "name": "stdout",
     "output_type": "stream",
     "text": [
      "[1, 8, 27, 64, 125, 216, 343, 512, 729, 1000]\n"
     ]
    }
   ],
   "source": [
    "numbers = list(map(lambda x: x**3, [1, 2, 3, 4, 5, 6, 7, 8, 9 ,10]))\n",
    "cubes = numbers\n",
    "print(cubes)"
   ]
  },
  {
   "cell_type": "code",
   "execution_count": 7,
   "metadata": {},
   "outputs": [
    {
     "name": "stdout",
     "output_type": "stream",
     "text": [
      "[1, 8, 27, 64, 125, 216, 343, 512, 729, 1000, 9261, 12167, 205379, 6751269]\n"
     ]
    }
   ],
   "source": [
    "# Easier way of coding the above block\n",
    "\n",
    "ha_numbers = 1, 2, 3, 4, 5, 6, 7, 8, 9, 10, 21, 23, 59, 189\n",
    "\n",
    "cubers = list(map(lambda x: x**3, ha_numbers))\n",
    "\n",
    "print(cubers)"
   ]
  },
  {
   "cell_type": "markdown",
   "metadata": {},
   "source": [
    "**Example 3: Sorting Words by Length Using Lambda**"
   ]
  },
  {
   "cell_type": "code",
   "execution_count": 3,
   "metadata": {},
   "outputs": [
    {
     "name": "stdout",
     "output_type": "stream",
     "text": [
      "['beer', 'bread', 'sugar', 'yogurt', 'mushroom']\n"
     ]
    }
   ],
   "source": [
    "words = ['beer', 'mushroom', 'bread', 'sugar', 'yogurt']\n",
    "sorted_words = sorted(words, key=lambda x: len(x))\n",
    "print(sorted_words)  # Outputs ['beer', 'bread', 'sugar', 'yogurt', 'mushroom']\n"
   ]
  },
  {
   "cell_type": "markdown",
   "metadata": {},
   "source": [
    "- In this example, an anonymous `lambda` function is used as the key argument for the `sorted` function to sort words by their length."
   ]
  },
  {
   "cell_type": "markdown",
   "metadata": {},
   "source": [
    "# `Quick Assignment 2: Sorting Words by Length Using Lambda`\n",
    "\n",
    "1. Create a list called `words` containing at least five words of varying lengths.\n",
    "1. Write a Python program that uses the `sorted` function with a `lambda` function as the key argument to sort the words list in ascending order of word length.\n",
    "1. Store the `sorted` list in a new variable called `sorted_words`.\n",
    "1. Finally, print the `sorted_words` list to display the words sorted by length."
   ]
  },
  {
   "cell_type": "code",
   "execution_count": 4,
   "metadata": {},
   "outputs": [
    {
     "name": "stdout",
     "output_type": "stream",
     "text": [
      "['ha', 'haa2', 'haaa4', 'haaaa3', 'haaaaaaaaaaa5']\n"
     ]
    }
   ],
   "source": [
    "wordss = ['ha', 'haa2', 'haaaa3', 'haaa4', 'haaaaaaaaaaa5']\n",
    "sort = sorted(wordss, key=lambda x: len(x))\n",
    "print(sort)"
   ]
  },
  {
   "cell_type": "markdown",
   "metadata": {},
   "source": [
    "**Example 4: Filtering a List with Lambda**"
   ]
  },
  {
   "cell_type": "code",
   "execution_count": 4,
   "metadata": {},
   "outputs": [
    {
     "name": "stdout",
     "output_type": "stream",
     "text": [
      "[2, 4, 6, 8, 10]\n"
     ]
    }
   ],
   "source": [
    "numbers = [1, 2, 3, 4, 5, 6, 7, 8, 9, 10]\n",
    "even_numbers = list(filter(lambda x: x % 2 == 0, numbers))\n",
    "print(even_numbers)  # Outputs [2, 4, 6, 8, 10]\n"
   ]
  },
  {
   "cell_type": "markdown",
   "metadata": {},
   "source": [
    "- Here, an anonymous lambda function is used with the `filter` function to get all even numbers from a list."
   ]
  },
  {
   "cell_type": "markdown",
   "metadata": {},
   "source": [
    "# `Quick Assignment 3: Filtering Words by Length Using Lambda`\n",
    "\n",
    "**Instructions:**\n",
    "\n",
    "In this assignment, you will use a lambda function to filter a list of words based on their length.\n",
    "\n",
    "Task:\n",
    "\n",
    "1. Create a list called words containing at least five words of varying lengths.\n",
    "1. Write a Python program that uses the filter function with a lambda function as the filtering condition to select only the words from the words list that have a length greater than `5` characters.\n",
    "1. Store the filtered words in a new list called `long_words`.\n",
    "1. Finally, print the `long_words` list to display the words with a length greater than `5` characters."
   ]
  },
  {
   "cell_type": "code",
   "execution_count": 1,
   "metadata": {},
   "outputs": [
    {
     "name": "stdout",
     "output_type": "stream",
     "text": [
      "['dinosaur', 'spooky']\n"
     ]
    }
   ],
   "source": [
    "ooga = ['dinosaur', 'rawr', 'spooky', 'scary', 'weird']\n",
    "\n",
    "words = list(filter(lambda x: len(x) > 5, ooga))\n",
    "print(words)"
   ]
  },
  {
   "cell_type": "markdown",
   "metadata": {},
   "source": [
    "Anonymous functions are often used in combination with other functions as arguments or return values. They are easy to read and understand, making them very useful in Python programming."
   ]
  },
  {
   "cell_type": "markdown",
   "metadata": {},
   "source": [
    "# `Assignment: Lambda Functions for Data Processing`\n",
    "\n",
    "**Instructions:**\n",
    "\n",
    "In this assignment, you will work with a list of words and perform various operations using lambda functions.\n",
    "\n",
    "Task:\n",
    "\n",
    "1. Create a list called words containing at least eight words of varying lengths.\n",
    "\n",
    "1. Write a Python program that performs the following tasks in order:\n",
    "\n",
    "- a. Use the `map` function along with a lambda function to convert all the words in the words list to uppercase. Store the uppercase words in a new list called uppercase_words.\n",
    "\n",
    "- b. Use the `sorted` function with a lambda function as the key argument to sort the words list in descending order of word length. Store the sorted list in a new variable called sorted_words_desc.\n",
    "\n",
    "- c. Use the `filter` function with a lambda function as the filtering condition to select only the words from the words list that have a length greater than 5 characters. Store the filtered words in a new list called `long_words`.\n",
    "\n",
    "1. Finally, print all three lists (`uppercase_words`, `sorted_words_desc`, and `long_words`) to display the results of each operation."
   ]
  },
  {
   "cell_type": "code",
   "execution_count": 4,
   "metadata": {},
   "outputs": [
    {
     "name": "stdout",
     "output_type": "stream",
     "text": [
      "['WOO', 'WORDS', 'THIS', 'IS', 'A', 'CRAZY', 'LIST!', 'LEGGO', 'AHAHAHHAHAHA', 'OWWOWOWOWOWOWOW']\n",
      "['owwowowowowowow', 'ahahahhahaha', 'words', 'crazy', 'list!', 'leggo', 'this', 'woo', 'is', 'a']\n",
      "['ahahahhahaha', 'owwowowowowowow']\n"
     ]
    }
   ],
   "source": [
    "words = ['woo', 'words', 'this', 'is', 'a', 'crazy', 'list!', 'leggo', 'ahahahhahaha', 'owwowowowowowow']\n",
    "\n",
    "uppercase_words = list(map(lambda x: x.upper(), words))\n",
    "sorted_words_desc = sorted(words, key=lambda x: len(x), reverse=True)\n",
    "long_words = list(filter(lambda x: len(x) > 5, words))\n",
    "\n",
    "print(uppercase_words)\n",
    "print(sorted_words_desc)\n",
    "print(long_words)"
   ]
  }
 ],
 "metadata": {
  "kernelspec": {
   "display_name": "Python 3",
   "language": "python",
   "name": "python3"
  },
  "language_info": {
   "codemirror_mode": {
    "name": "ipython",
    "version": 3
   },
   "file_extension": ".py",
   "mimetype": "text/x-python",
   "name": "python",
   "nbconvert_exporter": "python",
   "pygments_lexer": "ipython3",
   "version": "3.12.1"
  },
  "orig_nbformat": 4
 },
 "nbformat": 4,
 "nbformat_minor": 2
}
